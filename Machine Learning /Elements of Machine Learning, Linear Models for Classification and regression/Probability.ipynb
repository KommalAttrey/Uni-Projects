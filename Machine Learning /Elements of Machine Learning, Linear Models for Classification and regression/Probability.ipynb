{
 "cells": [
  {
   "cell_type": "markdown",
   "id": "039cc69f",
   "metadata": {},
   "source": [
    "# * Name- -Komal\n",
    "# * Student_id-33275440"
   ]
  },
  {
   "cell_type": "markdown",
   "id": "7a234056",
   "metadata": {},
   "source": [
    "# SECTION-2"
   ]
  },
  {
   "cell_type": "markdown",
   "id": "eed66133",
   "metadata": {},
   "source": [
    "#  ----------------------------Probability -------------------------------------"
   ]
  },
  {
   "cell_type": "markdown",
   "id": "66e5d194",
   "metadata": {},
   "source": [
    "#  [Bayes Rule]"
   ]
  },
  {
   "cell_type": "markdown",
   "id": "ca63b9a4",
   "metadata": {},
   "source": [
    "#### Import necessary libraries"
   ]
  },
  {
   "cell_type": "code",
   "execution_count": 1,
   "id": "41e1f5bb",
   "metadata": {},
   "outputs": [],
   "source": [
    "\n",
    "import numpy as np\n",
    "rng = np.random.default_rng()"
   ]
  },
  {
   "cell_type": "markdown",
   "id": "e47871cf",
   "metadata": {},
   "source": [
    "## QUESTION-4 \n",
    "## Part-I"
   ]
  },
  {
   "cell_type": "code",
   "execution_count": 2,
   "id": "be9c85cf",
   "metadata": {},
   "outputs": [],
   "source": [
    "def fruit_experiment(num_simulations):\n",
    "    boxes = ['red', 'blue', 'yellow']\n",
    "    fruits = [\n",
    "        ['apple'] * 3 + ['orange'] * 8,  # Red box\n",
    "        ['apple'] * 4 + ['orange'] * 4,  # Blue box\n",
    "        ['apple'] * 9 + ['orange'] * 1   # Yellow box\n",
    "    ]\n",
    "    selected_boxes = rng.choice(boxes, size=num_simulations)\n",
    "    selected_fruits = []\n",
    "    \n",
    "    for box in selected_boxes:\n",
    "        if box == 'red':\n",
    "            selected_fruits.append(rng.choice(fruits[0]))\n",
    "        elif box == 'blue':\n",
    "            selected_fruits.append(rng.choice(fruits[1]))\n",
    "        else:  # For 'yellow' box\n",
    "            selected_fruits.append(rng.choice(fruits[2]))\n",
    "    \n",
    "    return selected_boxes, np.array(selected_fruits, dtype='object')"
   ]
  },
  {
   "cell_type": "code",
   "execution_count": 3,
   "id": "dcf28be5",
   "metadata": {},
   "outputs": [
    {
     "name": "stdout",
     "output_type": "stream",
     "text": [
      "['blue' 'yellow' 'blue' 'yellow']\n",
      "['apple' 'apple' 'orange' 'apple']\n"
     ]
    }
   ],
   "source": [
    "boxes, fruits = fruit_experiment(4)\n",
    "print(boxes)\n",
    "print(fruits)"
   ]
  },
  {
   "cell_type": "markdown",
   "id": "7973a2ad",
   "metadata": {},
   "source": [
    "## QUESTION-4 \n",
    "## Part-II"
   ]
  },
  {
   "cell_type": "markdown",
   "id": "19e9aba3",
   "metadata": {},
   "source": [
    "## If the picked fruit is an apple, what is the probability that it was picked from the yellow box?"
   ]
  },
  {
   "cell_type": "markdown",
   "id": "cc3617a6",
   "metadata": {},
   "source": [
    "###     * 𝐴: The picked fruit is an apple\n",
    "###  * 𝑌: The fruit was picked from the yellow box.\n"
   ]
  },
  {
   "cell_type": "markdown",
   "id": "5ed19e02",
   "metadata": {},
   "source": [
    "### We want to calculate P(Y|A), the probability that the fruit was picked from the yellow box given that it is an apple."
   ]
  },
  {
   "cell_type": "markdown",
   "id": "9016f393",
   "metadata": {},
   "source": [
    "### Using Bayes' Rule:\n",
    "\n",
    "$P(Y|A) = \\frac{P(A|Y) \\cdot P(Y)}{P(A)}$"
   ]
  },
  {
   "cell_type": "markdown",
   "id": "d3377f01",
   "metadata": {},
   "source": [
    "### $P(A|Y) = \\frac{9}{10}$ (There are 9 apples out of 10 fruits in the yellow box)\n",
    "###  $P(Y) = \\frac{1}{3}$ (The probability of selecting any box is uniform, i.e., $\\frac{1}{3}$)\n",
    "### where: eq-1\n",
    "\n",
    "$P(A) = P(A|R)* P(R) + P(A|B) * P(B) + P(A|Y) * P(Y)$"
   ]
  },
  {
   "cell_type": "markdown",
   "id": "7aaa88a8",
   "metadata": {},
   "source": [
    "### $P(A|R) = \\frac{3}{11}$ (There are 3 apples out of 11 fruits in the red box)"
   ]
  },
  {
   "cell_type": "markdown",
   "id": "410e4512",
   "metadata": {},
   "source": [
    "### $P(R) = \\frac{1}{3}$ (The probability of selecting the red box)"
   ]
  },
  {
   "cell_type": "markdown",
   "id": "957461d1",
   "metadata": {},
   "source": [
    "### $P(A|B) = \\frac{4}{8}$ (There are 4 apples out of 8 fruits in the blue box)"
   ]
  },
  {
   "cell_type": "markdown",
   "id": "883ec2ee",
   "metadata": {},
   "source": [
    "###  $P(B) = \\frac{1}{3}$ (The probability of selecting the blue box)\n",
    "###  and as above we defined $P(A|Y) = \\frac{9}{10}$ and $P(Y) = \\frac{1}{3}$\n",
    "### putting values in equat-1\n",
    "$P(A) = \\frac{3}{11} * \\frac{1}{3} + \\frac{1}{2} * \\frac{1}{3} + \\frac{9}{10} * \\frac{1}{3} = \\frac{16}{30}$"
   ]
  },
  {
   "cell_type": "markdown",
   "id": "4e95b25f",
   "metadata": {},
   "source": [
    "### Substituting the values in Bayes' Rule:\n",
    "\n",
    "$P(Y|A) = \\frac{\\frac{9}{10} \\cdot \\frac{1}{3}}{\\frac{16}{30}} = \\frac{27}{48} \\approx 0.5625$\n"
   ]
  },
  {
   "cell_type": "markdown",
   "id": "a44c16d8",
   "metadata": {},
   "source": [
    "## Therefore, the probability that the fruit was picked from the yellow box given that it is an apple is approximately 0.5625 or 56.25%."
   ]
  },
  {
   "cell_type": "raw",
   "id": "21f167d6",
   "metadata": {},
   "source": [
    "                                          QUSETION-5\n",
    "                                          Expected Values"
   ]
  },
  {
   "cell_type": "markdown",
   "id": "4e6ac1ad",
   "metadata": {},
   "source": [
    "# -----------------------[Expected Values]---------------------------------------------"
   ]
  },
  {
   "cell_type": "markdown",
   "id": "5d7e0187",
   "metadata": {},
   "source": [
    "##    Question 5 (part-1)\n",
    "####  • X1 and X2, the outcome of the first and second die roll, respectively.\n",
    "####   • Yi for i = 1,...12, the outcome of the i-th subsequent die role if i ≤ X1 +X2 or 0 otherwise. \n",
    "####  • Z=Y1+···+Y12,thefinalscoreoftheplayer.\n",
    "\n",
    "\n",
    "#### Implement a Python function die experiment that simulates the above game for a desired number of repetitions and returns the array of scores achieved by the player for each repetition."
   ]
  },
  {
   "cell_type": "code",
   "execution_count": 4,
   "id": "f7e0343b",
   "metadata": {},
   "outputs": [],
   "source": [
    "def die_experiment(num_repetitions):\n",
    "    scores = []\n",
    "    \n",
    "    for _ in range(num_repetitions):\n",
    "        x1, x2 = rng.integers(1, 7, size=2)\n",
    "        additional_rolls = rng.integers(1, 7, size=x1+x2)\n",
    "        score = np.sum(additional_rolls)\n",
    "        scores.append(score)\n",
    "    \n",
    "    return np.array(scores)"
   ]
  },
  {
   "cell_type": "markdown",
   "id": "060395a6",
   "metadata": {},
   "source": [
    "## Question 5 (part-II)"
   ]
  },
  {
   "cell_type": "markdown",
   "id": "4b0100fe",
   "metadata": {},
   "source": [
    "### Estimate the expected player score E[Z] by performing 10,000 repetitions and provide an error margin of this estimate with 95% certainty (you can use the formula of Q2 Part III for this).\n"
   ]
  },
  {
   "cell_type": "code",
   "execution_count": 5,
   "id": "e0da7040",
   "metadata": {},
   "outputs": [
    {
     "name": "stdout",
     "output_type": "stream",
     "text": [
      "Estimated expected score: 24.45\n",
      "95% confidence interval: [24.26, 24.63]\n"
     ]
    }
   ],
   "source": [
    "num_repetitions = 10000\n",
    "scores = die_experiment(num_repetitions)\n",
    "estimated_expected_score = np.mean(scores)\n",
    "standard_error = np.std(scores) / np.sqrt(num_repetitions)\n",
    "margin_of_error = 1.96 * standard_error  # 95% confidence level \n",
    "\n",
    "#simulation function from Part I\n",
    "\n",
    "print(f\"Estimated expected score: {estimated_expected_score:.2f}\")\n",
    "print(f\"95% confidence interval: [{estimated_expected_score - margin_of_error:.2f}, {estimated_expected_score + margin_of_error:.2f}]\")"
   ]
  },
  {
   "cell_type": "markdown",
   "id": "4917b599",
   "metadata": {},
   "source": [
    "## Question 5 (part-II)\n",
    "### Analytically derive the expected value E[Z]"
   ]
  },
  {
   "cell_type": "markdown",
   "id": "5854de06",
   "metadata": {},
   "source": [
    "SOLUTION-"
   ]
  },
  {
   "cell_type": "markdown",
   "id": "87059a5d",
   "metadata": {},
   "source": [
    "### To analytically derive the expected value E[Z], we can use the rule of total expectation:\n",
    "\n",
    "### E[Z] = Σ₍ₓ₁,ₓ₂₎ E[Z|X₁=x₁, X₂=x₂] ⋅ P(X₁=x₁, X₂=x₂)\n",
    "\n",
    "### which is  Σ_i=1-n E(x_i)P(x_i) in general"
   ]
  },
  {
   "cell_type": "markdown",
   "id": "03256957",
   "metadata": {},
   "source": [
    "## First, let's determine the conditional expectation E[Z|X₁=x₁, X₂=x₂]:\n",
    "\n",
    "### E[Z|X₁=x₁, X₂=x₂] = E[Y₁ + ... + Y₍ₓ₁₊ₓ₂₎]\n",
    "###                               = E[Y1] + ... + E[Yx1+x2]\n",
    "###                               (since all Yi are independent and identically distributed)\n",
    "###                               = (x₁ + x₂) * E[Y₁] \n",
    "###                               (E[Yi] is the expected value of a fair six-sided die, which is (1+2+3+4+5+6)/6 = 3.5)\n",
    "###                               = (x₁ + x₂) * 3.5"
   ]
  },
  {
   "cell_type": "markdown",
   "id": "d01c50d6",
   "metadata": {},
   "source": [
    "### Now, let's calculate the marginal expectation E[Z] by averaging E[Z|X₁=x₁, X₂=x₂] over all possible values of x₁ and x₂:\n",
    "\n",
    "### E[Z] = Σ₍ₓ₁,ₓ₂₎ E[Z|X₁=x₁, X₂=x₂] ⋅ P(X₁=x₁, X₂=x₂)\n",
    "### = ∑x1,x2 (x1 + x2) * 3.5 * P(X1=x1) * P(X2=x2) \n",
    "###  since (since X1 and X2 are independent) and (P(X1=x1) = P(X2=x2) = 1/6 for each value of x1 and x2)\n",
    "### = 3.5 * ∑x1,x2 (x1 + x2) * (1/6) * (1/6)\n",
    "### = 3.5 * (E[X1] + E[X2])\n",
    "### = 3.5 * (3.5 + 3.5)\n",
    "### = 24.5\n",
    "### Therefore, the analytically derived expected value E[Z] is 24.5."
   ]
  },
  {
   "cell_type": "code",
   "execution_count": null,
   "id": "7a478279",
   "metadata": {},
   "outputs": [],
   "source": []
  }
 ],
 "metadata": {
  "kernelspec": {
   "display_name": "Python 3 (ipykernel)",
   "language": "python",
   "name": "python3"
  },
  "language_info": {
   "codemirror_mode": {
    "name": "ipython",
    "version": 3
   },
   "file_extension": ".py",
   "mimetype": "text/x-python",
   "name": "python",
   "nbconvert_exporter": "python",
   "pygments_lexer": "ipython3",
   "version": "3.11.4"
  }
 },
 "nbformat": 4,
 "nbformat_minor": 5
}
