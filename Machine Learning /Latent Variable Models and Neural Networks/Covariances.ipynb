{
 "cells": [
  {
   "cell_type": "markdown",
   "id": "20f0216e",
   "metadata": {},
   "source": [
    "# Section-4\n",
    "# Covariances"
   ]
  },
  {
   "cell_type": "markdown",
   "id": "60c6669b",
   "metadata": {},
   "source": [
    "## Name-Komal , Student-id -33275440"
   ]
  },
  {
   "cell_type": "code",
   "execution_count": 1,
   "id": "24d33421",
   "metadata": {},
   "outputs": [],
   "source": [
    "import numpy as np"
   ]
  },
  {
   "cell_type": "code",
   "execution_count": 2,
   "id": "a78e4fdb",
   "metadata": {},
   "outputs": [
    {
     "name": "stdout",
     "output_type": "stream",
     "text": [
      "Correlation matrix: \n",
      " [[ 1.   0.9  0.   0. ]\n",
      " [ 0.9  1.  -0.9 -0.9]\n",
      " [ 0.  -0.9  1.   0.5]\n",
      " [ 0.  -0.9  0.5  1. ]]\n"
     ]
    }
   ],
   "source": [
    "# Given mean values and standard deviations for the four assets\n",
    "means = np.array([100, 100, 50, 50])\n",
    "std_devs = np.array([20, 22, 5, 5])\n",
    "\n",
    "# Correlation matrix for the assets\n",
    "R = np.array([\n",
    "    [1.0, 0.9, 0.0, 0.0],\n",
    "    [0.9, 1.0, -0.9, -0.9],\n",
    "    [0.0, -0.9, 1.0, 0.5],\n",
    "    [0.0, -0.9, 0.5, 1.0]\n",
    "])\n",
    "print(\"Correlation matrix: \\n\",R)"
   ]
  },
  {
   "cell_type": "code",
   "execution_count": 3,
   "id": "5ec370ed",
   "metadata": {},
   "outputs": [
    {
     "name": "stdout",
     "output_type": "stream",
     "text": [
      "Investment portfolios: \n",
      " [[50  0 25 25]\n",
      " [ 0 50 50  0]\n",
      " [ 0 50 25 25]\n",
      " [25 25 25 25]]\n"
     ]
    }
   ],
   "source": [
    "# Calculating the covariance matrix from the standard deviations and correlation matrix\n",
    "cov_matrix = np.outer(std_devs, std_devs) * R\n",
    "\n",
    "# Investment portfolios (weights of investments in the assets)\n",
    "portfolios = np.array([\n",
    "    [50, 0, 25, 25],\n",
    "    [0, 50, 50, 0],\n",
    "    [0, 50, 25, 25],\n",
    "    [25, 25, 25, 25]\n",
    "])\n",
    "print(\"Investment portfolios: \\n\",portfolios)"
   ]
  },
  {
   "cell_type": "code",
   "execution_count": 4,
   "id": "d90f9abb",
   "metadata": {},
   "outputs": [],
   "source": [
    "def portfolio_stats(weights, means, cov_matrix):\n",
    "    # Calculating the expected value of the portfolio\n",
    "    expected_value = np.dot(weights, means)\n",
    "    \n",
    "    # Calculating the standard deviation of the portfolio\n",
    "    variance = np.dot(weights, np.dot(cov_matrix, weights))\n",
    "    std_dev = np.sqrt(variance)\n",
    "    \n",
    "    return expected_value, std_dev"
   ]
  },
  {
   "cell_type": "code",
   "execution_count": 5,
   "id": "78e17be1",
   "metadata": {},
   "outputs": [],
   "source": [
    "\n",
    "# Computing the statistics for each portfolio\n",
    "results = [portfolio_stats(portfolio, means, cov_matrix) for portfolio in portfolios]"
   ]
  },
  {
   "cell_type": "code",
   "execution_count": 6,
   "id": "3e16691a",
   "metadata": {},
   "outputs": [
    {
     "name": "stdout",
     "output_type": "stream",
     "text": [
      "Portfolio 1: Expected Value = 7500, Standard Deviation = 1023.17\n",
      "Portfolio 2: Expected Value = 7500, Standard Deviation = 881.76\n",
      "Portfolio 3: Expected Value = 7500, Standard Deviation = 872.85\n",
      "Portfolio 4: Expected Value = 7500, Standard Deviation = 920.26\n"
     ]
    }
   ],
   "source": [
    "# Displaying the results\n",
    "for i, result in enumerate(results, 1):\n",
    "    print(f\"Portfolio {i}: Expected Value = {result[0]}, Standard Deviation = {result[1]:.2f}\")"
   ]
  },
  {
   "cell_type": "markdown",
   "id": "4db226a1",
   "metadata": {},
   "source": [
    "### For a conservative investor-\n",
    "We want on minimizing risk while still achieving reasonable returns.The expected value of all the portfolios is same but Portfolio 3 seems to be the most suitable choice for investors .\n",
    "\n",
    "Portfolio 3 offers a relatively low standard deviation $872.85$ while maintaining the same expected value as the other portfolios. \n"
   ]
  },
  {
   "cell_type": "markdown",
   "id": "ee6635fd",
   "metadata": {},
   "source": [
    "## Part II: Mathematical Explanation and Recommendation\n"
   ]
  },
  {
   "cell_type": "markdown",
   "id": "9658f0a4",
   "metadata": {},
   "source": [
    "Here we are given with four random variables X1,X2,X3,X4\n",
    "\n",
    "\n",
    "there mean =[100, 100, 50, 50]\n",
    "\n",
    "standard deviation= [20, 22, 5, 5]\n",
    "\n",
    "Correlation matrix between the variables is:-\n",
    "\n",
    "$\\left(\n",
    "\\begin{array}{cccc}\n",
    "1.0 & 0.9 & 0.0 & 0.0 \\\\\n",
    "0.9 & 1.0 & -0.9 & -0.9 \\\\\n",
    "0.0 & -0.9 & 1.0 & 0.5 \\\\\n",
    "0.0 & -0.9 & 0.5 & 1.0 \\\\\n",
    "\\end{array}\n",
    "\\right)\n",
    " $\n",
    "\n"
   ]
  },
  {
   "cell_type": "markdown",
   "id": "5f4cb4ce",
   "metadata": {},
   "source": [
    "### Expected Value\n",
    "The expected value of a portfolio represents the average outcome of an investment over a long period under current conditions. It is calculated by taking the dot product of the portfolio weights  and the mean values of the assets.\n",
    "\n",
    "Mathematically, the expected value \n",
    "E[P] of a portfolio P that consists of a combination of assets can be calculated using the formula:\n",
    "\n",
    "\n",
    "$E[P] = \\sum_{i=1}^{n} w_i \\mu_i $\n",
    "\n",
    "\n",
    "where $w_i$ represents the weight of the i the asset in the portfolio,\n",
    "\n",
    "and $\\mu_i$ is the mean (expected return) of the asset. \n",
    "\n",
    "This  computes a weighted average of the expected returns of the individual assets, where the weights reflect the proportion of the total portfolio value represented by each asset."
   ]
  },
  {
   "cell_type": "markdown",
   "id": "2e78a6c9",
   "metadata": {},
   "source": [
    "### Covariance Matrix\n",
    "The covariance matrix measures how changes in one asset's returns are expected to correlate with changes in another's. For assets \n",
    "i and j, the covariance σ_i is calculated as:\n",
    "\n",
    "$\\sigma_{ij} = \\rho_{ij} \\sigma_i \\sigma_j\n",
    "$\n",
    "\n",
    " where $ \\rho_{ij}$  is the correlation coefficient between the returns of assets i and j.\n",
    "\n",
    "&\n",
    "\n",
    "$ \\sigma_i and \\sigma_j $are the standard deviations of assets \n",
    "i and j respectively. \n",
    "\n",
    "The correlation matrix R consists of all pairwise correlation coefficients $ \\rho_{ij}$ , and when multiplied element-wise by the outer product of the standard deviations vector with itself, it produces the covariance matrix. "
   ]
  },
  {
   "cell_type": "markdown",
   "id": "9ab44746",
   "metadata": {},
   "source": [
    "### The variance of a portfolio \n",
    "$\\sigma_P^2$ provides a measure of the spread of the returns around the expected value, representing the risk associated with the portfolio. It is calculated using:\n",
    "\n",
    "$\\sigma_P^2 = \\mathbf{w}^T \\Sigma \\mathbf{w}$\n",
    "#### variance = np.dot(weights, np.dot(cov_matrix, weights))\n",
    "\n",
    "where w is the vector of portfolio weights and \n",
    "\n",
    "$\\Sigma $ is the covariance matrix. The standard deviation, which is the square root of the variance, directly measures the expected volatility of the portfolio's returns. \n",
    "\n",
    "\n"
   ]
  },
  {
   "cell_type": "markdown",
   "id": "fcae0f7c",
   "metadata": {},
   "source": [
    "### Standard deviation -It is crucial for investors as it helps in understanding the amount of risk involved in the portfolio relative to the returns.\n",
    "It is simply the square root of the variance. It is measure of the total risk  of the portfolio's returns, indicating the typical deviation from the expected value.\n",
    "$\\sigma_P = \\sqrt{\\sigma_P^2}\n",
    "$"
   ]
  },
  {
   "cell_type": "markdown",
   "id": "65b579ad",
   "metadata": {},
   "source": [
    "### Portfolio 3: The Conservative Choice\n",
    "Given that all portfolios have the same expected value, a conservative investor would ideally choose the portfolio with the lowest standard deviation, as it implies lower risk or less fluctuation in returns. Portfolio 3, having the lowest standard deviation among the given portfolios, thus represents the optimal choice for minimizing risk while maintaining expected returns.\n",
    "\n"
   ]
  },
  {
   "cell_type": "code",
   "execution_count": null,
   "id": "a849f3dd",
   "metadata": {},
   "outputs": [],
   "source": []
  },
  {
   "cell_type": "code",
   "execution_count": null,
   "id": "3d10b93f",
   "metadata": {},
   "outputs": [],
   "source": []
  }
 ],
 "metadata": {
  "kernelspec": {
   "display_name": "Python 3 (ipykernel)",
   "language": "python",
   "name": "python3"
  },
  "language_info": {
   "codemirror_mode": {
    "name": "ipython",
    "version": 3
   },
   "file_extension": ".py",
   "mimetype": "text/x-python",
   "name": "python",
   "nbconvert_exporter": "python",
   "pygments_lexer": "ipython3",
   "version": "3.11.4"
  }
 },
 "nbformat": 4,
 "nbformat_minor": 5
}
