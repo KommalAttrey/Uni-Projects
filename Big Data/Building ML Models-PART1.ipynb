{
 "cells": [
  {
   "cell_type": "markdown",
   "metadata": {},
   "source": [
    "# FIT5202 Assignment 2A : Building models to predict future eCommerce sales\n",
    "\n",
    "## Table of Contents\n",
    "*  \n",
    "    * [Part 1 : Data Loading, Transformation and Exploration](#part-1)\n",
    "    * [Part 2 : Feature extraction and ML training](#part-2)\n",
    "    * [Part 3 : Customer Segmentation and Knowledge sharing with K-Mean](#part-3)\n",
    "    * [Part 4 : Data Ethics, Privacy, and Security](#part-4)\n",
    " \n",
    "Please add code/markdown cells as you need."
   ]
  },
  {
   "cell_type": "markdown",
   "metadata": {},
   "source": [
    "# Part 1: Data Loading, Transformation and Exploration <a class=\"anchor\" name=\"part-1\"></a>\n",
    "## 1.1 Data Loading\n",
    "In this section, you will need to load the given datasets into PySpark DataFrames and use DataFrame functions to process the data. Usage of Spark SQL is discouraged, and your can only use pandas to format results. For plotting, different visualisation packages can be used, but please ensure that you have included instructions to install the additional packages and the installation will be successful in the provided docker container(in case your marker needs to clear the notebook and rerun it).\n",
    "\n",
    "### 1.1.1 Data Loading <a class=\"anchor\" name=\"1.1\"></a>\n",
    "Write the code to create a SparkSession. For creating the SparkSession, you need to use a SparkConf object to configure the Spark app with a proper application name, to ensure the maximum partition size not exceed 20MB, and to run locally with all CPU cores on your machine (note: if you have insufficient RAM, reducing the number of cores is also acceptable.)"
   ]
  },
  {
   "cell_type": "code",
   "execution_count": 1,
   "metadata": {},
   "outputs": [],
   "source": [
    "from pyspark.sql import SparkSession\n",
    "from pyspark import SparkConf\n",
    "# Configure Spark using SparkConf\n",
    "spark_conf = (SparkConf()\n",
    "    .setAppName(\"MOTH_Sales_Prediction_A2A\")  \n",
    "    .set(\"spark.files.maxPartitionBytes\", \"20MB\")  \n",
    "    .setMaster(\"local[*]\")  \n",
    ")\n",
    "spark = SparkSession.builder \\\n",
    "    .config(conf=spark_conf) \\\n",
    "    .getOrCreate()"
   ]
  },
  {
   "cell_type": "markdown",
   "metadata": {},
   "source": [
    "1.1.2 Write code to define the schemas for category, customer, product, clickstream and transaction datasets, following the data types suggested in the metadata file."
   ]
  },
  {
   "cell_type": "code",
   "execution_count": 2,
   "metadata": {},
   "outputs": [],
   "source": [
    "from pyspark.sql.types import StructType, StructField, IntegerType, StringType, DoubleType, TimestampType\n",
    "from pyspark.sql.functions import when, count, col, month , first , isnan\n",
    "from pyspark.sql.functions import broadcast\n",
    "from pyspark.sql.functions import year , current_date\n",
    "from pyspark.sql import functions as F\n",
    "import pandas as pd\n",
    "category_schema = StructType([\n",
    "    StructField(\"category_id\", IntegerType(), True),\n",
    "    StructField(\"cat_level1\", StringType(), True),\n",
    "    StructField(\"cat_level2\", StringType(), True),\n",
    "    StructField(\"cat_level3\", StringType(), True),\n",
    "])\n",
    "customer_schema = StructType([\n",
    "    StructField(\"customer_id\", IntegerType(), True),\n",
    "    StructField(\"first_name\", StringType(), True),\n",
    "    StructField(\"last_name\", StringType(), True),\n",
    "    StructField(\"username\", StringType(), True),\n",
    "    StructField(\"email\", StringType(), True),\n",
    "    StructField(\"gender\", StringType(), True), \n",
    "    StructField(\"device_type\", StringType(), True),\n",
    "    StructField(\"device_id\", StringType(), True),\n",
    "    StructField(\"device_version\", StringType(), True),\n",
    "    StructField(\"home_location_lat\", DoubleType(), True),\n",
    "    StructField(\"home_location_long\", DoubleType(), True),\n",
    "    StructField(\"home_location\", StringType(), True),\n",
    "    StructField(\"home_country\", StringType(), True),\n",
    "    StructField(\"first_join_date\", TimestampType(), True), \n",
    "])\n",
    "product_schema = StructType([\n",
    "    StructField(\"id\", IntegerType(), True),\n",
    "    StructField(\"gender\", StringType(), True),\n",
    "    StructField(\"baseColour\", StringType(), True),\n",
    "    StructField(\"season\", StringType(), True),\n",
    "    StructField(\"year\", IntegerType(), True),  \n",
    "    StructField(\"usage\", StringType(), True),\n",
    "    StructField(\"productDisplayName\", StringType(), True),\n",
    "    StructField(\"category_id\", IntegerType(), True),\n",
    "])\n",
    "\n",
    "clickstream_schema = StructType([\n",
    "    StructField(\"session_id\", StringType(), True),  \n",
    "    StructField(\"event_name\", StringType(), True),\n",
    "    StructField(\"event_time\", StringType(), True),\n",
    "    StructField(\"event_id\", StringType(), True),\n",
    "    StructField(\"traffic_source\", StringType(), True),\n",
    "    StructField(\"event_metadata\", StringType(), True),\n",
    "])\n",
    "transaction_schema = StructType([\n",
    "    StructField(\"created_at\", TimestampType(), True),\n",
    "    StructField(\"customer_id\", IntegerType(), True),\n",
    "    StructField(\"booking_id\", IntegerType(), True),\n",
    "    StructField(\"session_id\", StringType(), True),  \n",
    "    StructField(\"product_metadata\", StringType(), True),\n",
    "    StructField(\"payment_method\", StringType(), True),\n",
    "    StructField(\"payment_status\", StringType(), True),\n",
    "    StructField(\"promo_amount\", DoubleType(), True),\n",
    "    StructField(\"promo_code\", StringType(), True),\n",
    "    StructField(\"shipment_fee\", DoubleType(), True),\n",
    "    StructField(\"shipment_date_limit\", TimestampType(), True),\n",
    "    StructField(\"shipment_location_lat\", DoubleType(), True),\n",
    "    StructField(\"shipment_location_long\", DoubleType(), True),\n",
    "    StructField(\"total_amount\", DoubleType(), True),\n",
    "])\n"
   ]
  },
  {
   "cell_type": "markdown",
   "metadata": {},
   "source": [
    "1.1.3 Using predefined schema, write code to load the csv files into separate dataframes. Print the schemas of all dataframes."
   ]
  },
  {
   "cell_type": "code",
   "execution_count": 3,
   "metadata": {},
   "outputs": [
    {
     "name": "stdout",
     "output_type": "stream",
     "text": [
      "Category DataFrame :\n",
      "root\n",
      " |-- category_id: integer (nullable = true)\n",
      " |-- cat_level1: string (nullable = true)\n",
      " |-- cat_level2: string (nullable = true)\n",
      " |-- cat_level3: string (nullable = true)\n",
      "\n",
      "Customer DataFrame :\n",
      "root\n",
      " |-- customer_id: integer (nullable = true)\n",
      " |-- first_name: string (nullable = true)\n",
      " |-- last_name: string (nullable = true)\n",
      " |-- username: string (nullable = true)\n",
      " |-- email: string (nullable = true)\n",
      " |-- gender: string (nullable = true)\n",
      " |-- birthdate: date (nullable = true)\n",
      " |-- device_type: string (nullable = true)\n",
      " |-- device_id: string (nullable = true)\n",
      " |-- device_version: string (nullable = true)\n",
      " |-- home_location_lat: double (nullable = true)\n",
      " |-- home_location_long: double (nullable = true)\n",
      " |-- home_location: string (nullable = true)\n",
      " |-- home_country: string (nullable = true)\n",
      " |-- first_join_date: date (nullable = true)\n",
      "\n",
      "Product DataFrame :\n",
      "root\n",
      " |-- id: integer (nullable = true)\n",
      " |-- gender: string (nullable = true)\n",
      " |-- baseColour: string (nullable = true)\n",
      " |-- season: string (nullable = true)\n",
      " |-- year: integer (nullable = true)\n",
      " |-- usage: string (nullable = true)\n",
      " |-- productDisplayName: string (nullable = true)\n",
      " |-- category_id: integer (nullable = true)\n",
      "\n",
      "Click stream DataFrame :\n",
      "root\n",
      " |-- session_id: string (nullable = true)\n",
      " |-- event_name: string (nullable = true)\n",
      " |-- event_time: timestamp (nullable = true)\n",
      " |-- event_id: string (nullable = true)\n",
      " |-- traffic_source: string (nullable = true)\n",
      " |-- event_metadata: string (nullable = true)\n",
      "\n",
      "Transaction DataFrame :\n",
      "root\n",
      " |-- created_at: timestamp (nullable = true)\n",
      " |-- customer_id: integer (nullable = true)\n",
      " |-- booking_id: string (nullable = true)\n",
      " |-- session_id: string (nullable = true)\n",
      " |-- product_metadata: string (nullable = true)\n",
      " |-- payment_method: string (nullable = true)\n",
      " |-- payment_status: string (nullable = true)\n",
      " |-- promo_amount: integer (nullable = true)\n",
      " |-- promo_code: string (nullable = true)\n",
      " |-- shipment_fee: integer (nullable = true)\n",
      " |-- shipment_date_limit: timestamp (nullable = true)\n",
      " |-- shipment_location_lat: double (nullable = true)\n",
      " |-- shipment_location_long: double (nullable = true)\n",
      " |-- total_amount: integer (nullable = true)\n",
      "\n"
     ]
    }
   ],
   "source": [
    "category_df = spark.read.option(\"header\", \"true\").option(\"inferSchema\", \"true\").csv(\"category.csv\")\n",
    "customer_df = spark.read.option(\"header\", \"true\").option(\"inferSchema\", \"true\").csv(\"customer.csv\")\n",
    "product_df = spark.read.option(\"header\", \"true\").option(\"inferSchema\", \"true\").csv(\"product.csv\")\n",
    "click_stream_df = spark.read.option(\"header\", \"true\").option(\"inferSchema\", \"true\").csv(\"click_stream.csv\")\n",
    "transaction_df = spark.read.option(\"header\", \"true\").option(\"inferSchema\", \"true\").csv(\"new_transactions.csv\")\n",
    "\n",
    "print(\"Category DataFrame :\")\n",
    "category_df = category_df.drop(\"#\")\n",
    "category_df.printSchema()\n",
    "\n",
    "print(\"Customer DataFrame :\")\n",
    "customer_df = customer_df.drop(\"#\")\n",
    "customer_df.printSchema()\n",
    "\n",
    "print(\"Product DataFrame :\")\n",
    "product_df = product_df.drop(\"#\")\n",
    "product_df.printSchema()\n",
    "\n",
    "print(\"Click stream DataFrame :\")\n",
    "click_stream_df = click_stream_df.drop(\"#\")\n",
    "click_stream_df.printSchema()\n",
    "\n",
    "print(\"Transaction DataFrame :\")\n",
    "transaction_df= transaction_df.drop(\"#\")\n",
    "transaction_df.printSchema()\n"
   ]
  },
  {
   "cell_type": "markdown",
   "metadata": {},
   "source": [
    "### 1.2 Data Transformation to Create Features <a class=\"anchor\" name=\"1.2\"></a>\n",
    "In the clickstream dataset, there are 9 types of events:  \n",
    "VIEW_PROMO, SCROLL, ADD_PROMO, VIEW_ITEM, CLICK, PURCHASE, ADD_TO_CART, HOMEPAGE, SEARCH  \n",
    "We categorize them into 3 different categories:  \n",
    "Category 1(high value actions - highly likely to purchase): ADD_PROMO, ADD_TO_CART  \n",
    "Category 2(medium value actions - likely to purchase): VIEW_PROMO, VIEW_ITEM, SEARCH  \n",
    "Category 3(low value actions - just browsing):  SCROLL, HOMEPAGE, CLICK  \n",
    "Perform the following tasks base on the clickstream dataframe and create a new dataframe.  "
   ]
  },
  {
   "cell_type": "markdown",
   "metadata": {},
   "source": [
    "1.2.1 For each unique session_id, count the number of actions in each category and create 3 columns(num_cat_highvalue, num_cat_midvalue, num_cat_lowvalue)."
   ]
  },
  {
   "cell_type": "markdown",
   "metadata": {},
   "source": [
    "Counting number of actions in each category and adding features into feature dataframe.\n",
    "high value actions shows- highly likely to purchase\n",
    "medium value actions shows- likely to purchase\n",
    "low value actions shows- just browsing\n"
   ]
  },
  {
   "cell_type": "code",
   "execution_count": 4,
   "metadata": {},
   "outputs": [
    {
     "name": "stdout",
     "output_type": "stream",
     "text": [
      "+--------------------+-----------------+----------------+----------------+\n",
      "|          session_id|num_cat_highvalue|num_cat_midvalue|num_cat_lowvalue|\n",
      "+--------------------+-----------------+----------------+----------------+\n",
      "|2fdb7762-98d5-432...|                1|               2|               2|\n",
      "|e7f689a1-28a0-4fe...|                1|               1|               3|\n",
      "|2faff3e1-25cf-438...|                2|               6|              13|\n",
      "|3f2d99e1-51ff-402...|                1|               0|               2|\n",
      "|5386d3f4-98ea-448...|                2|               9|              18|\n",
      "+--------------------+-----------------+----------------+----------------+\n",
      "only showing top 5 rows\n",
      "\n"
     ]
    }
   ],
   "source": [
    "category_conditions = {\n",
    "    \"Category 1\": (col(\"event_name\").isin([\"ADD_PROMO\", \"ADD_TO_CART\"])),\n",
    "    \"Category 2\": (col(\"event_name\").isin([\"VIEW_PROMO\", \"VIEW_ITEM\", \"SEARCH\"])),\n",
    "    \"Category 3\": (col(\"event_name\").isin([\"SCROLL\", \"HOMEPAGE\", \"CLICK\"]))\n",
    "}\n",
    "feature_df  = click_stream_df.select(\"session_id\", \"event_name\") \\\n",
    "    .groupBy(\"session_id\") \\\n",
    "    .agg(\n",
    "        count(when(category_conditions[\"Category 1\"], True)).alias(\"num_cat_highvalue\"),\n",
    "        count(when(category_conditions[\"Category 2\"], True)).alias(\"num_cat_midvalue\"),\n",
    "        count(when(category_conditions[\"Category 3\"], True)).alias(\"num_cat_lowvalue\")\n",
    "    )\n",
    "feature_df .show(5)"
   ]
  },
  {
   "cell_type": "markdown",
   "metadata": {},
   "source": []
  },
  {
   "cell_type": "markdown",
   "metadata": {},
   "source": [
    "1.2.2. Create 2 columns with percentage ratio of high value action and low value actions. (i.e. high value ratio = (count of high value actions)/(total actions) * 100%)"
   ]
  },
  {
   "cell_type": "code",
   "execution_count": 5,
   "metadata": {
    "scrolled": true
   },
   "outputs": [
    {
     "name": "stdout",
     "output_type": "stream",
     "text": [
      "+--------------------+-----------------+----------------+----------------+-------------+-----------------+------------------+\n",
      "|          session_id|num_cat_highvalue|num_cat_midvalue|num_cat_lowvalue|total_actions| high_value_ratio|   low_value_ratio|\n",
      "+--------------------+-----------------+----------------+----------------+-------------+-----------------+------------------+\n",
      "|2fdb7762-98d5-432...|                1|               2|               2|            5|             20.0|              40.0|\n",
      "|e7f689a1-28a0-4fe...|                1|               1|               3|            5|             20.0|              60.0|\n",
      "|2faff3e1-25cf-438...|                2|               6|              13|           21|9.523809523809524|61.904761904761905|\n",
      "|3f2d99e1-51ff-402...|                1|               0|               2|            3|33.33333333333333| 66.66666666666666|\n",
      "|5386d3f4-98ea-448...|                2|               9|              18|           29|6.896551724137931| 62.06896551724138|\n",
      "+--------------------+-----------------+----------------+----------------+-------------+-----------------+------------------+\n",
      "only showing top 5 rows\n",
      "\n"
     ]
    },
    {
     "data": {
      "text/plain": [
       "895203"
      ]
     },
     "execution_count": 5,
     "metadata": {},
     "output_type": "execute_result"
    }
   ],
   "source": [
    "feature_df  = feature_df .withColumn(\n",
    "    \"total_actions\",\n",
    "    col(\"num_cat_highvalue\") + col(\"num_cat_midvalue\") + col(\"num_cat_lowvalue\")\n",
    ")\n",
    "feature_df  = feature_df .withColumn(\n",
    "    \"high_value_ratio\",\n",
    "    (col(\"num_cat_highvalue\") / col(\"total_actions\")) * 100\n",
    ")\n",
    "feature_df  = feature_df .withColumn(\n",
    "    \"low_value_ratio\",\n",
    "    (col(\"num_cat_lowvalue\") / col(\"total_actions\")) * 100\n",
    ")\n",
    "feature_df .show(5)\n",
    "feature_df.count()"
   ]
  },
  {
   "cell_type": "markdown",
   "metadata": {},
   "source": [
    "1.2.3 Create a new column “is_promotion” with value of 1 or 0 and add to feature_df. If there are “ADD_PROMO” actions in a session, set it to 1, otherwise 0."
   ]
  },
  {
   "cell_type": "markdown",
   "metadata": {},
   "source": [
    "Grouping click_stream_df by the \"session_id\" column and using pivot function to pivot the data by \"event_name\" column, \n",
    "The agg(count(\"*\")) function count the number of times each event occur in each session.Selecting two columns from the DataFrame: \"session_id\" and \"ADD_PROMO\" creating a new dataframe and then joining this to feature dataframe on session id."
   ]
  },
  {
   "cell_type": "code",
   "execution_count": 6,
   "metadata": {},
   "outputs": [
    {
     "name": "stdout",
     "output_type": "stream",
     "text": [
      "+--------------------+-----------------+----------------+----------------+-------------+------------------+------------------+------------+\n",
      "|          session_id|num_cat_highvalue|num_cat_midvalue|num_cat_lowvalue|total_actions|  high_value_ratio|   low_value_ratio|is_promotion|\n",
      "+--------------------+-----------------+----------------+----------------+-------------+------------------+------------------+------------+\n",
      "|00005746-17ec-449...|                1|              20|              44|           65|1.5384615384615385|  67.6923076923077|           0|\n",
      "|0000a729-3de3-461...|                2|               0|               2|            4|              50.0|              50.0|           0|\n",
      "|000128d0-c51c-411...|                2|               6|               6|           14|14.285714285714285|42.857142857142854|           0|\n",
      "|000130b9-07d1-437...|                1|              11|              34|           46|2.1739130434782608| 73.91304347826086|           0|\n",
      "|0001434a-955b-41a...|                2|               1|               2|            5|              40.0|              40.0|           1|\n",
      "+--------------------+-----------------+----------------+----------------+-------------+------------------+------------------+------------+\n",
      "only showing top 5 rows\n",
      "\n"
     ]
    },
    {
     "data": {
      "text/plain": [
       "895203"
      ]
     },
     "execution_count": 6,
     "metadata": {},
     "output_type": "execute_result"
    }
   ],
   "source": [
    "event_df = click_stream_df.groupBy(\"session_id\").pivot(\"event_name\").agg(count(\"*\"))\n",
    "event_df =event_df.fillna(0)\n",
    "event_df=event_df.select(\"session_id\",\"ADD_PROMO\")\n",
    "event_df = event_df.withColumnRenamed(\"ADD_PROMO\", \"is_promotion\")\n",
    "feature_df = feature_df.join(\n",
    "    event_df,\n",
    "    on=\"session_id\",\n",
    "    how=\"inner\"\n",
    ")\n",
    "feature_df.show(5)\n",
    "feature_df.count()"
   ]
  },
  {
   "cell_type": "markdown",
   "metadata": {},
   "source": [
    "1.2.4 For each unique session_id, base on event_time, extract the season. (note: The dataset is from Indonesia, Spring: Mar-May, Summer: Jun-Aug, Autumn: Sep-Nov, Winter: Dec-Feb)"
   ]
  },
  {
   "cell_type": "markdown",
   "metadata": {},
   "source": [
    "Assuming if month is between March and May (3-5), the \"season\" is set to \"Spring.\"\n",
    "-June and August (6-8), the \"season\" is set to \"Summer.\"\n",
    "-September and November (9-11), the \"season\" is set to \"Autumn.\"\n",
    "-December, January, or February (12, 1, 2), the \"season\" is set to \"Winter.\"\n",
    " & If none of the conditions are met then \"Unknown.\"\n",
    "Then creating a new DataFrame season_min_df by selecting the \"session_id\" and \"season\" and grouping  by \"session_id,\"\n",
    "for unique sessions.Calculates the minimum (earliest) season value within that session.\n",
    "and finally joining to feature dataframe"
   ]
  },
  {
   "cell_type": "code",
   "execution_count": 7,
   "metadata": {},
   "outputs": [
    {
     "name": "stdout",
     "output_type": "stream",
     "text": [
      "+--------------------+----------+\n",
      "|          session_id|min_season|\n",
      "+--------------------+----------+\n",
      "|00005746-17ec-449...|    Spring|\n",
      "|0000a729-3de3-461...|    Spring|\n",
      "|000128d0-c51c-411...|    Spring|\n",
      "|000130b9-07d1-437...|    Autumn|\n",
      "|0001434a-955b-41a...|    Autumn|\n",
      "|0001971f-84ae-4ba...|    Summer|\n",
      "|0001972b-927b-40a...|    Summer|\n",
      "|0001d650-1218-4e8...|    Spring|\n",
      "|0002451c-6217-4d0...|    Spring|\n",
      "|0002b514-75f2-457...|    Summer|\n",
      "|0002d4fd-9985-4fd...|    Spring|\n",
      "|00034035-1258-409...|    Autumn|\n",
      "|00037246-503b-4b5...|    Spring|\n",
      "|0003cf84-4bba-4d7...|    Winter|\n",
      "|0003ff81-e79d-4d8...|    Spring|\n",
      "|00049358-f228-48a...|    Winter|\n",
      "|0004a700-7db4-412...|    Summer|\n",
      "|00052a85-d4c3-436...|    Autumn|\n",
      "|000564d1-2ed4-464...|    Spring|\n",
      "|00058dfc-08c3-45d...|    Summer|\n",
      "+--------------------+----------+\n",
      "only showing top 20 rows\n",
      "\n"
     ]
    },
    {
     "data": {
      "text/plain": [
       "895203"
      ]
     },
     "execution_count": 7,
     "metadata": {},
     "output_type": "execute_result"
    }
   ],
   "source": [
    "season_conditions = {\n",
    "    \"Spring\": (month(col(\"event_time\")).between(3, 5)),\n",
    "    \"Summer\": (month(col(\"event_time\")).between(6, 8)),\n",
    "    \"Autumn\": (month(col(\"event_time\")).between(9, 11)),\n",
    "    \"Winter\": (month(col(\"event_time\")).isin([12, 1, 2])),\n",
    "}\n",
    "click_stream_df = click_stream_df.withColumn(\n",
    "    \"season\",\n",
    "    when(season_conditions[\"Spring\"], \"Spring\")\n",
    "    .when(season_conditions[\"Summer\"], \"Summer\")\n",
    "    .when(season_conditions[\"Autumn\"], \"Autumn\")\n",
    "    .when(season_conditions[\"Winter\"], \"Winter\")\n",
    "    .otherwise(\"Unknown\")\n",
    ")\n",
    "season_min_df = click_stream_df.select(\"session_id\", \"season\") \\\n",
    "    .groupBy(\"session_id\") \\\n",
    "    .agg(F.min(\"season\").alias(\"min_season\"))\n",
    "season_min_df.show()\n",
    "season_min_df.count()"
   ]
  },
  {
   "cell_type": "code",
   "execution_count": 8,
   "metadata": {},
   "outputs": [
    {
     "name": "stdout",
     "output_type": "stream",
     "text": [
      "+--------------------+-----------------+----------------+----------------+-------------+------------------+------------------+------------+----------+\n",
      "|          session_id|num_cat_highvalue|num_cat_midvalue|num_cat_lowvalue|total_actions|  high_value_ratio|   low_value_ratio|is_promotion|min_season|\n",
      "+--------------------+-----------------+----------------+----------------+-------------+------------------+------------------+------------+----------+\n",
      "|0000a729-3de3-461...|                2|               0|               2|            4|              50.0|              50.0|           0|    Spring|\n",
      "|000128d0-c51c-411...|                2|               6|               6|           14|14.285714285714285|42.857142857142854|           0|    Spring|\n",
      "|000130b9-07d1-437...|                1|              11|              34|           46|2.1739130434782608| 73.91304347826086|           0|    Autumn|\n",
      "|0001434a-955b-41a...|                2|               1|               2|            5|              40.0|              40.0|           1|    Autumn|\n",
      "|0001971f-84ae-4ba...|                2|               3|               9|           14|14.285714285714285| 64.28571428571429|           1|    Summer|\n",
      "+--------------------+-----------------+----------------+----------------+-------------+------------------+------------------+------------+----------+\n",
      "only showing top 5 rows\n",
      "\n"
     ]
    },
    {
     "data": {
      "text/plain": [
       "895203"
      ]
     },
     "execution_count": 8,
     "metadata": {},
     "output_type": "execute_result"
    }
   ],
   "source": [
    "feature_df = feature_df.join(\n",
    "    season_min_df,\n",
    "    on=\"session_id\",\n",
    "    how=\"inner\"\n",
    ")\n",
    "feature_df.show(5)\n",
    "feature_df.count()"
   ]
  },
  {
   "cell_type": "markdown",
   "metadata": {},
   "source": [
    "1.2.5 Join tables to find customer information and add columns to feature_df: gender, age, device type, home_location, first join year. (note: For some column, you need to perform transformation. For age, keep integer only.)"
   ]
  },
  {
   "cell_type": "markdown",
   "metadata": {},
   "source": [
    "selecting some columns from customer dataframe to generate new_customer_df and joining it to new_customer_session_df to add extra column session id in new_customer_df. Then finally joining this dataframe to feature dataframe which will add gender, age, device type, home_location, first join year these new columns in featuredf."
   ]
  },
  {
   "cell_type": "code",
   "execution_count": 9,
   "metadata": {},
   "outputs": [
    {
     "name": "stdout",
     "output_type": "stream",
     "text": [
      "+-----------+------+-----------+-----------------+---------------+---+--------------------+\n",
      "|customer_id|gender|device_type|    home_location|first_join_year|age|          session_id|\n",
      "+-----------+------+-----------+-----------------+---------------+---+--------------------+\n",
      "|       4766|     M|    Android|      Jawa Tengah|           2021| 30|8fa2e44f-6869-43c...|\n",
      "|       4766|     M|    Android|      Jawa Tengah|           2021| 30|37957597-fd21-4f0...|\n",
      "|       4766|     M|    Android|      Jawa Tengah|           2021| 30|f2914d84-6bc3-4fd...|\n",
      "|       4766|     M|    Android|      Jawa Tengah|           2021| 30|6a893e64-9cb6-477...|\n",
      "|       4766|     M|    Android|      Jawa Tengah|           2021| 30|daf03fed-6257-459...|\n",
      "|       4766|     M|    Android|      Jawa Tengah|           2021| 30|273e235f-af99-4fc...|\n",
      "|       4766|     M|    Android|      Jawa Tengah|           2021| 30|2a41d2cf-8354-482...|\n",
      "|       4766|     M|    Android|      Jawa Tengah|           2021| 30|f557b78e-196c-48b...|\n",
      "|       4766|     M|    Android|      Jawa Tengah|           2021| 30|2e20b8e6-28eb-4cd...|\n",
      "|       4766|     M|    Android|      Jawa Tengah|           2021| 30|df466920-bf01-454...|\n",
      "|       5142|     F|    Android|      Jawa Tengah|           2020| 22|                null|\n",
      "|       6528|     M|    Android|Kalimantan Tengah|           2018| 39|4f6f5971-5127-4a9...|\n",
      "|       6528|     M|    Android|Kalimantan Tengah|           2018| 39|8e238e95-5f53-48a...|\n",
      "|       6528|     M|    Android|Kalimantan Tengah|           2018| 39|359d0d9d-8230-47f...|\n",
      "|       6528|     M|    Android|Kalimantan Tengah|           2018| 39|27767ff2-37f8-40d...|\n",
      "|       6528|     M|    Android|Kalimantan Tengah|           2018| 39|baf30bc4-4967-41f...|\n",
      "|       6528|     M|    Android|Kalimantan Tengah|           2018| 39|913f2bf7-c09d-4ee...|\n",
      "|       6528|     M|    Android|Kalimantan Tengah|           2018| 39|8ee8fcf2-124b-459...|\n",
      "|       6528|     M|    Android|Kalimantan Tengah|           2018| 39|dcc0bc1e-ef67-40a...|\n",
      "|       6528|     M|    Android|Kalimantan Tengah|           2018| 39|911f3e88-a713-432...|\n",
      "+-----------+------+-----------+-----------------+---------------+---+--------------------+\n",
      "only showing top 20 rows\n",
      "\n"
     ]
    }
   ],
   "source": [
    "new_customer_df = customer_df.select(\n",
    "    \"customer_id\",\n",
    "    \"gender\",\n",
    "    \"device_type\",\n",
    "    \"home_location\",\n",
    "    year(\"first_join_date\").alias(\"first_join_year\"),\n",
    "    (year(current_date()) - year(\"birthdate\")).alias(\"age\")\n",
    ")\n",
    "new_customer_session_df = transaction_df.select(\n",
    "    \"customer_id\",\n",
    "    \"session_id\"\n",
    ")\n",
    "joined_df = new_customer_df.join(new_customer_session_df, on=\"customer_id\", how=\"left\")\n",
    "joined_df.show()"
   ]
  },
  {
   "cell_type": "code",
   "execution_count": 10,
   "metadata": {},
   "outputs": [
    {
     "name": "stdout",
     "output_type": "stream",
     "text": [
      "+--------------------+-----------------+----------------+----------------+-------------+------------------+------------------+------------+----------+-----------+------+-----------+-------------------+---------------+----+\n",
      "|          session_id|num_cat_highvalue|num_cat_midvalue|num_cat_lowvalue|total_actions|  high_value_ratio|   low_value_ratio|is_promotion|min_season|customer_id|gender|device_type|      home_location|first_join_year| age|\n",
      "+--------------------+-----------------+----------------+----------------+-------------+------------------+------------------+------------+----------+-----------+------+-----------+-------------------+---------------+----+\n",
      "|0000a729-3de3-461...|                2|               0|               2|            4|              50.0|              50.0|           0|    Spring|       2607|     M|    Android|       Jakarta Raya|           2021|  18|\n",
      "|000128d0-c51c-411...|                2|               6|               6|           14|14.285714285714285|42.857142857142854|           0|    Spring|      18960|     F|    Android|         Jawa Timur|           2018|  23|\n",
      "|000130b9-07d1-437...|                1|              11|              34|           46|2.1739130434782608| 73.91304347826086|           0|    Autumn|      58359|     M|    Android|         Yogyakarta|           2020|  26|\n",
      "|0001434a-955b-41a...|                2|               1|               2|            5|              40.0|              40.0|           1|    Autumn|      54569|     F|    Android|             Maluku|           2018|  25|\n",
      "|0001971f-84ae-4ba...|                2|               3|               9|           14|14.285714285714285| 64.28571428571429|           1|    Summer|       6723|     F|        iOS|        Jawa Tengah|           2017|  27|\n",
      "|0001972b-927b-40a...|                4|               0|               4|            8|              50.0|              50.0|           1|    Summer|      56393|     F|    Android| Kalimantan Selatan|           2017|  14|\n",
      "|0002451c-6217-4d0...|                1|               1|               1|            3| 33.33333333333333| 33.33333333333333|           0|    Spring|       7619|     F|        iOS|         Yogyakarta|           2021|  39|\n",
      "|0002b514-75f2-457...|                1|               1|               4|            6|16.666666666666664| 66.66666666666666|           0|    Summer|      27466|     F|    Android|     Sumatera Utara|           2018|  28|\n",
      "|0002d4fd-9985-4fd...|                8|              10|              12|           30|26.666666666666668|              40.0|           1|    Spring|      91166|     M|    Android|         Jawa Barat|           2017|  29|\n",
      "|00034035-1258-409...|                2|               3|               2|            7| 28.57142857142857| 28.57142857142857|           1|    Autumn|        217|     F|    Android|Nusa Tenggara Barat|           2020|  27|\n",
      "|00037246-503b-4b5...|                2|               8|              11|           21| 9.523809523809524| 52.38095238095239|           1|    Spring|        496|     M|    Android|       Jakarta Raya|           2017|  25|\n",
      "|0003cf84-4bba-4d7...|                2|               6|              26|           34|  5.88235294117647| 76.47058823529412|           1|    Winter|      93249|     M|    Android|            Lampung|           2019|  30|\n",
      "|00049358-f228-48a...|                3|               0|               1|            4|              75.0|              25.0|           0|    Winter|      59256|     F|    Android|        Jawa Tengah|           2017|  24|\n",
      "|0004a700-7db4-412...|                3|               2|              10|           15|              20.0| 66.66666666666666|           0|    Summer|      70607|     M|    Android|       Jakarta Raya|           2021|  31|\n",
      "|00052a85-d4c3-436...|                1|               0|               2|            3| 33.33333333333333| 66.66666666666666|           0|    Autumn|      62249|     M|    Android|             Maluku|           2021|  30|\n",
      "|00058dfc-08c3-45d...|                3|               2|               3|            8|              37.5|              37.5|           1|    Summer|      16391|     F|    Android|         Jawa Barat|           2017|  38|\n",
      "|00067e81-de35-4b5...|                1|               3|              11|           15| 6.666666666666667| 73.33333333333333|           0|    Spring|      62359|     F|    Android|        Jawa Tengah|           2019|  15|\n",
      "|0006800a-b81c-402...|                3|               0|               1|            4|              75.0|              25.0|           0|    Autumn|       null|  null|       null|               null|           null|null|\n",
      "|00075170-1524-4e3...|                1|               1|               1|            3| 33.33333333333333| 33.33333333333333|           0|    Winter|      92839|     F|    Android|  Kalimantan Tengah|           2019|  29|\n",
      "|00078813-1631-476...|                2|               1|               1|            4|              50.0|              25.0|           0|    Summer|        525|     F|    Android|             Banten|           2021|  31|\n",
      "+--------------------+-----------------+----------------+----------------+-------------+------------------+------------------+------------+----------+-----------+------+-----------+-------------------+---------------+----+\n",
      "only showing top 20 rows\n",
      "\n"
     ]
    },
    {
     "data": {
      "text/plain": [
       "895203"
      ]
     },
     "execution_count": 10,
     "metadata": {},
     "output_type": "execute_result"
    }
   ],
   "source": [
    "feature_df = feature_df.join(joined_df, \"session_id\", \"left\")\n",
    "feature_df.show()\n",
    "feature_df.count()"
   ]
  },
  {
   "cell_type": "markdown",
   "metadata": {},
   "source": [
    "1.2.6 Join tables to find out if the customer made purchase or not, and add to feature_df as 1 or 0. We will use this column as training label later."
   ]
  },
  {
   "cell_type": "markdown",
   "metadata": {},
   "source": [
    "Adding a new column made_purchase to feature_df which will store only 1 payment_status is Success or 0 if Fail"
   ]
  },
  {
   "cell_type": "code",
   "execution_count": 11,
   "metadata": {},
   "outputs": [
    {
     "name": "stdout",
     "output_type": "stream",
     "text": [
      "+--------------------+-----------------+----------------+----------------+-------------+------------------+-----------------+------------+----------+-----------+------+-----------+-------------------+---------------+----+--------------+-------------+\n",
      "|          session_id|num_cat_highvalue|num_cat_midvalue|num_cat_lowvalue|total_actions|  high_value_ratio|  low_value_ratio|is_promotion|min_season|customer_id|gender|device_type|      home_location|first_join_year| age|payment_status|made_purchase|\n",
      "+--------------------+-----------------+----------------+----------------+-------------+------------------+-----------------+------------+----------+-----------+------+-----------+-------------------+---------------+----+--------------+-------------+\n",
      "|0000a729-3de3-461...|                2|               0|               2|            4|              50.0|             50.0|           0|    Spring|       2607|     M|    Android|       Jakarta Raya|           2021|  18|          Fail|            0|\n",
      "|000130b9-07d1-437...|                1|              11|              34|           46|2.1739130434782608|73.91304347826086|           0|    Autumn|      58359|     M|    Android|         Yogyakarta|           2020|  26|          Fail|            0|\n",
      "|0001434a-955b-41a...|                2|               1|               2|            5|              40.0|             40.0|           1|    Autumn|      54569|     F|    Android|             Maluku|           2018|  25|       Success|            1|\n",
      "|0001971f-84ae-4ba...|                2|               3|               9|           14|14.285714285714285|64.28571428571429|           1|    Summer|       6723|     F|        iOS|        Jawa Tengah|           2017|  27|       Success|            1|\n",
      "|0002451c-6217-4d0...|                1|               1|               1|            3| 33.33333333333333|33.33333333333333|           0|    Spring|       7619|     F|        iOS|         Yogyakarta|           2021|  39|       Success|            1|\n",
      "|0002b514-75f2-457...|                1|               1|               4|            6|16.666666666666664|66.66666666666666|           0|    Summer|      27466|     F|    Android|     Sumatera Utara|           2018|  28|          Fail|            0|\n",
      "|0002d4fd-9985-4fd...|                8|              10|              12|           30|26.666666666666668|             40.0|           1|    Spring|      91166|     M|    Android|         Jawa Barat|           2017|  29|       Success|            1|\n",
      "|00034035-1258-409...|                2|               3|               2|            7| 28.57142857142857|28.57142857142857|           1|    Autumn|        217|     F|    Android|Nusa Tenggara Barat|           2020|  27|       Success|            1|\n",
      "|00037246-503b-4b5...|                2|               8|              11|           21| 9.523809523809524|52.38095238095239|           1|    Spring|        496|     M|    Android|       Jakarta Raya|           2017|  25|       Success|            1|\n",
      "|0003cf84-4bba-4d7...|                2|               6|              26|           34|  5.88235294117647|76.47058823529412|           1|    Winter|      93249|     M|    Android|            Lampung|           2019|  30|       Success|            1|\n",
      "|00049358-f228-48a...|                3|               0|               1|            4|              75.0|             25.0|           0|    Winter|      59256|     F|    Android|        Jawa Tengah|           2017|  24|       Success|            1|\n",
      "|0004a700-7db4-412...|                3|               2|              10|           15|              20.0|66.66666666666666|           0|    Summer|      70607|     M|    Android|       Jakarta Raya|           2021|  31|          Fail|            0|\n",
      "|00052a85-d4c3-436...|                1|               0|               2|            3| 33.33333333333333|66.66666666666666|           0|    Autumn|      62249|     M|    Android|             Maluku|           2021|  30|          Fail|            0|\n",
      "|00058dfc-08c3-45d...|                3|               2|               3|            8|              37.5|             37.5|           1|    Summer|      16391|     F|    Android|         Jawa Barat|           2017|  38|       Success|            1|\n",
      "|00067e81-de35-4b5...|                1|               3|              11|           15| 6.666666666666667|73.33333333333333|           0|    Spring|      62359|     F|    Android|        Jawa Tengah|           2019|  15|          Fail|            0|\n",
      "|0006800a-b81c-402...|                3|               0|               1|            4|              75.0|             25.0|           0|    Autumn|       null|  null|       null|               null|           null|null|          null|            0|\n",
      "|00075170-1524-4e3...|                1|               1|               1|            3| 33.33333333333333|33.33333333333333|           0|    Winter|      92839|     F|    Android|  Kalimantan Tengah|           2019|  29|          Fail|            0|\n",
      "|00078813-1631-476...|                2|               1|               1|            4|              50.0|             25.0|           0|    Summer|        525|     F|    Android|             Banten|           2021|  31|       Success|            1|\n",
      "|00080cfb-06ab-4db...|                1|               5|              16|           22| 4.545454545454546|72.72727272727273|           0|    Spring|       6663|     M|    Android|            Lampung|           2019|  26|          Fail|            0|\n",
      "|00086e3f-14ac-473...|                3|               1|               2|            6|              50.0|33.33333333333333|           1|    Autumn|      74428|     M|    Android|        Jawa Tengah|           2017|  19|       Success|            1|\n",
      "+--------------------+-----------------+----------------+----------------+-------------+------------------+-----------------+------------+----------+-----------+------+-----------+-------------------+---------------+----+--------------+-------------+\n",
      "only showing top 20 rows\n",
      "\n"
     ]
    },
    {
     "data": {
      "text/plain": [
       "895203"
      ]
     },
     "execution_count": 11,
     "metadata": {},
     "output_type": "execute_result"
    }
   ],
   "source": [
    "df = transaction_df.select(\n",
    "    \"session_id\",\n",
    "    \"payment_status\"\n",
    ")\n",
    "feature_df = feature_df.join(df, \"session_id\", \"left\")\n",
    "feature_df = feature_df.withColumn(\n",
    "    \"made_purchase\",\n",
    "    when(feature_df[\"payment_status\"] == \"Success\", 1).otherwise(0)\n",
    ")\n",
    "feature_df.show()\n",
    "feature_df.count()"
   ]
  },
  {
   "cell_type": "markdown",
   "metadata": {},
   "source": [
    "### 1.3 Exploring the Data <a class=\"anchor\" name=\"1.3\"></a>\n",
    "**1.3.1 With the feature_df, write code to show the basic statistics: a) For each numeric column, show count, mean, stddev, min, max, 25 percentile, 50 percentile, 75 percentile; b)For each non-numeric column, display the top-5 values and the corresponding counts; c) For each boolean column, display the value and count.**"
   ]
  },
  {
   "cell_type": "code",
   "execution_count": 12,
   "metadata": {},
   "outputs": [
    {
     "name": "stdout",
     "output_type": "stream",
     "text": [
      "Datatypes :\n",
      "Column 'session_id' has data type 'string'\n",
      "Column 'num_cat_highvalue' has data type 'bigint'\n",
      "Column 'num_cat_midvalue' has data type 'bigint'\n",
      "Column 'num_cat_lowvalue' has data type 'bigint'\n",
      "Column 'total_actions' has data type 'bigint'\n",
      "Column 'high_value_ratio' has data type 'double'\n",
      "Column 'low_value_ratio' has data type 'double'\n",
      "Column 'is_promotion' has data type 'bigint'\n",
      "Column 'min_season' has data type 'string'\n",
      "Column 'customer_id' has data type 'int'\n",
      "Column 'gender' has data type 'string'\n",
      "Column 'device_type' has data type 'string'\n",
      "Column 'home_location' has data type 'string'\n",
      "Column 'first_join_year' has data type 'int'\n",
      "Column 'age' has data type 'int'\n",
      "Column 'payment_status' has data type 'string'\n",
      "Column 'made_purchase' has data type 'int'\n"
     ]
    }
   ],
   "source": [
    "#dropping null values from feature_df\n",
    "feature_df = feature_df.na.drop()\n",
    "column_data_types =feature_df.dtypes\n",
    "print(\"Datatypes :\")\n",
    "for column, data_type in column_data_types:\n",
    "    print(f\"Column '{column}' has data type '{data_type}'\")"
   ]
  },
  {
   "cell_type": "code",
   "execution_count": 13,
   "metadata": {
    "scrolled": true
   },
   "outputs": [
    {
     "name": "stdout",
     "output_type": "stream",
     "text": [
      "+-------+------------------+------------------+------------------+-----------------+------------------+------------------+------------------+------------------+------------------+\n",
      "|summary|       customer_id| num_cat_highvalue|  num_cat_midvalue| num_cat_lowvalue|     total_actions|  high_value_ratio|   low_value_ratio|   first_join_year|               age|\n",
      "+-------+------------------+------------------+------------------+-----------------+------------------+------------------+------------------+------------------+------------------+\n",
      "|  count|            852582|            852582|            852582|           852582|            852582|            852582|            852582|            852582|            852582|\n",
      "|   mean|49839.197542289185|2.6051054326739247|3.4767916751702477|7.536056355869582|13.617953463713754| 26.83715888270127|51.904517056566206| 2018.674827758503|27.397053890417578|\n",
      "| stddev|28999.357992518857| 2.301966945215055|4.5177145089369874|9.364566759935958|13.771137155907823| 17.36996995469044|16.104733589646475|1.6759156622858096| 7.285972221068851|\n",
      "|    min|                 3|                 1|                 0|                1|                 2|0.2074688796680498|1.8181818181818181|              2016|                 7|\n",
      "|    25%|             24545|                 1|                 1|                2|                 5|              12.5|              40.0|              2017|                22|\n",
      "|    50%|             49619|                 2|                 2|                5|                10|              25.0| 52.17391304347826|              2019|                27|\n",
      "|    75%|             74951|                 3|                 5|                9|                17| 33.33333333333333| 65.51724137931035|              2020|                32|\n",
      "|    max|             99999|                53|               157|              512|               649| 96.66666666666667| 95.83333333333334|              2022|                69|\n",
      "+-------+------------------+------------------+------------------+-----------------+------------------+------------------+------------------+------------------+------------------+\n",
      "\n"
     ]
    }
   ],
   "source": [
    "#Summary for numerical columns\n",
    "c_numerical=['customer_id','num_cat_highvalue','num_cat_midvalue','num_cat_lowvalue','total_actions','high_value_ratio','low_value_ratio','first_join_year','age']\n",
    "c_numerical = feature_df[c_numerical]\n",
    "c_numerical.summary().show(10)\n"
   ]
  },
  {
   "cell_type": "code",
   "execution_count": 14,
   "metadata": {},
   "outputs": [
    {
     "name": "stdout",
     "output_type": "stream",
     "text": [
      "Column: session_id\n",
      "+------------------------------------+-----+\n",
      "|session_id                          |count|\n",
      "+------------------------------------+-----+\n",
      "|0000da55-698f-4d22-8b44-3ca192f2f961|1    |\n",
      "|00001f29-3ede-4445-95f0-0178934e32ba|1    |\n",
      "|00003eca-954b-4150-aee1-63fc62f395cf|1    |\n",
      "|0000425b-ddc8-4459-a240-6ba814dac132|1    |\n",
      "|00007415-e0e7-4a33-95e8-5bc749016876|1    |\n",
      "+------------------------------------+-----+\n",
      "only showing top 5 rows\n",
      "\n",
      "\n",
      "\n",
      "Column: min_season\n",
      "+----------+------+\n",
      "|min_season|count |\n",
      "+----------+------+\n",
      "|Spring    |257174|\n",
      "|Autumn    |215796|\n",
      "|Summer    |197065|\n",
      "|Winter    |182547|\n",
      "+----------+------+\n",
      "\n",
      "\n",
      "\n",
      "Column: gender\n",
      "+------+------+\n",
      "|gender|count |\n",
      "+------+------+\n",
      "|F     |543509|\n",
      "|M     |309073|\n",
      "+------+------+\n",
      "\n",
      "\n",
      "\n",
      "Column: device_type\n",
      "+-----------+------+\n",
      "|device_type|count |\n",
      "+-----------+------+\n",
      "|Android    |656809|\n",
      "|iOS        |195773|\n",
      "+-----------+------+\n",
      "\n",
      "\n",
      "\n",
      "Column: home_location\n",
      "+-------------+------+\n",
      "|home_location|count |\n",
      "+-------------+------+\n",
      "|Jakarta Raya |156698|\n",
      "|Jawa Barat   |101244|\n",
      "|Jawa Tengah  |95240 |\n",
      "|Jawa Timur   |81106 |\n",
      "|Yogyakarta   |66444 |\n",
      "+-------------+------+\n",
      "only showing top 5 rows\n",
      "\n",
      "\n",
      "\n"
     ]
    }
   ],
   "source": [
    "#for non numeric columns\n",
    "c_categorical=['session_id','min_season','gender','device_type','home_location']\n",
    "df2=feature_df[c_categorical]\n",
    "for column in c_categorical:\n",
    "    print(f\"Column: {column}\")\n",
    "    df2.groupBy(column).count().orderBy(col(\"count\").desc()).show(5, truncate=False)\n",
    "    print(\"\\n\")"
   ]
  },
  {
   "cell_type": "code",
   "execution_count": 15,
   "metadata": {},
   "outputs": [
    {
     "name": "stdout",
     "output_type": "stream",
     "text": [
      "+-------------+------+\n",
      "|made_purchase| count|\n",
      "+-------------+------+\n",
      "|            1|527812|\n",
      "|            0|324770|\n",
      "+-------------+------+\n",
      "\n",
      "+------------+------+\n",
      "|is_promotion| count|\n",
      "+------------+------+\n",
      "|           0|526047|\n",
      "|           1|326535|\n",
      "+------------+------+\n",
      "\n"
     ]
    }
   ],
   "source": [
    "#value and count for boolean\n",
    "c_boolean = ['made_purchase', 'is_promotion']\n",
    "df3=feature_df[c_boolean]\n",
    "boolean_df = df3.select(*c_boolean)\n",
    "for column in c_boolean:\n",
    "    result = boolean_df.groupBy(column).count()\n",
    "    result.show()"
   ]
  },
  {
   "cell_type": "markdown",
   "metadata": {},
   "source": [
    "**1.3.2 Explore the dataframe and write code to present two plots worthy of presentation to the company, describe your plots and discuss the findings from the plots.**\n",
    "- One of the plots needs to base on feature_df, you’re free to choose the other one.  \n",
    "- Hint: you can use the basic plots (e.g., histograms, line charts, scatter plots) for the relationship between a column and the label; or more advanced plots like correlation plots; 2: if your data is too large for the plotting, consider using sampling before plotting.  \n",
    "- 150 words max for each plot’s description and discussion  \n",
    "- Feel free to use any plotting libraries: matplotlib, seabon, plotly, etc.  \n",
    "- Please only use the provided data for visualisation  \n"
   ]
  },
  {
   "cell_type": "raw",
   "metadata": {},
   "source": [
    "Plot 1: Age Distribution\n",
    "Created a histogram to visualize the age distribution of customers in the dataset using the feature_df. \n",
    "x-axis -- represents age \n",
    "y-axis --represents the frequency of customers or count of occurrences.\n",
    "The histogram is divided into bins, each representing a range of ages, and the height of each bin indicates how many customers fall into that age range.\n",
    "\n",
    "Findings:\n",
    "The age distribution is somewhat right-skewed, with a peak in the mid to late 20s and early 30s.\n",
    "There are relatively fewer customers below the age of 20 and above the age of 60.\n",
    "The majority of customers appear to be in their 20s and 30s.\n",
    "Understanding the age distribution can be valuable for targeted marketing or analysis, as it helps identify the age groups that are more prevalent among customers or users.From this we can also explore how age correlates with other variables like purchase behavior or engagement with certain products or services."
   ]
  },
  {
   "cell_type": "code",
   "execution_count": 16,
   "metadata": {},
   "outputs": [
    {
     "data": {
      "image/png": "[encoded data removed]",
      "text/plain": [
       "<Figure size 1000x600 with 1 Axes>"
      ]
     },
     "metadata": {},
     "output_type": "display_data"
    }
   ],
   "source": [
    "import matplotlib.pyplot as plt\n",
    "import seaborn as sns\n",
    "\n",
    "#Age Distribution\n",
    "plt.figure(figsize=(10, 6))\n",
    "sns.histplot(data=feature_df.toPandas(), x=\"age\", bins=30, color='skyblue')\n",
    "plt.title(\"Age Distribution\")\n",
    "plt.xlabel(\"Age\")\n",
    "plt.ylabel(\"Frequency\")\n",
    "plt.grid(True)\n",
    "plt.show()\n"
   ]
  },
  {
   "cell_type": "markdown",
   "metadata": {},
   "source": [
    "Grouped bar plot that illustrates the relationship between \"device_type\" and \"gender\" & \"made_purchase\" label. \n",
    "Findings:\n",
    "\n",
    "The x-axis represents different \"device_type\" categories.\n",
    "The bars are grouped by \"device_type,\" & further divided into two sections: \"Male\" and \"Female\" genders.\n",
    "The height of each bar represents the count of occurrences for each category combination.\n",
    "\n",
    "This plot helps visualize the distribution of purchase behavior among different device types and genders, it seems females who use Android device have higly puchased and males with ios had minimum."
   ]
  },
  {
   "cell_type": "code",
   "execution_count": 17,
   "metadata": {},
   "outputs": [
    {
     "data": {
      "image/png": "[encoded data removed]",
      "text/plain": [
       "<Figure size 1200x800 with 1 Axes>"
      ]
     },
     "metadata": {},
     "output_type": "display_data"
    }
   ],
   "source": [
    "# Relationship Between \"device,\" \"gender,\" and \"made_purchase\"\n",
    "import matplotlib.pyplot as plt\n",
    "import seaborn as sns\n",
    "plot_df = feature_df.toPandas()\n",
    "plt.figure(figsize=(12, 8))\n",
    "sns.countplot(data=plot_df, x=\"device_type\", hue=\"gender\", palette=\"Set2\", saturation=0.75)\n",
    "plt.title(\"Relationship Between 'device' and 'gender'\")\n",
    "plt.xlabel(\"Device\")\n",
    "plt.ylabel(\"made purchase\")\n",
    "plt.legend(title=\"Gender\", labels=[\"Male\", \"Female\"])\n",
    "plt.grid(True)\n",
    "plt.show()\n"
   ]
  },
  {
   "cell_type": "markdown",
   "metadata": {},
   "source": [
    "##Payment Status Distribution \n",
    "-Bar Chart\n",
    "Visualizing the distribution of payment statuses among the customers in the dataset using a bar chart.\n",
    "Description:\n",
    "The bar chart displays the count of customers for each payment status category(success or fail). It provides insights into the success and failure rates of payments made by customers.\n",
    "Findings:\n",
    "The majority of customers have a payment status of \"Success,\" indicating successful payments.\n",
    "There is a smaller group with a payment status of \"Failed,\" suggesting payment issues.\n",
    "Understanding payment statuses can help the company identify areas where payment processes can be improved and where customer support may be needed.\n",
    "It supports data-driven insights and decision-making, making it a valuable asset for the company's financial and customer service strategies."
   ]
  },
  {
   "cell_type": "code",
   "execution_count": 18,
   "metadata": {},
   "outputs": [
    {
     "data": {
      "image/png": "[encoded data removed]",
      "text/plain": [
       "<Figure size 1000x600 with 1 Axes>"
      ]
     },
     "metadata": {},
     "output_type": "display_data"
    }
   ],
   "source": [
    "# Payment status Distribution\n",
    "import matplotlib.pyplot as plt\n",
    "feature_df = feature_df.fillna(\"Unknown\", subset=[\"payment_status\"])\n",
    "payment_status_counts = feature_df.groupBy(\"payment_status\").count().orderBy(\"count\", ascending=False).toPandas()# Create a bar chart\n",
    "plt.figure(figsize=(10, 6))\n",
    "plt.bar(payment_status_counts[\"payment_status\"], payment_status_counts[\"count\"], color='skyblue')\n",
    "plt.title(\"Payment Status Distribution\")\n",
    "plt.xlabel(\"Payment Status\")\n",
    "plt.ylabel(\"Number of Customers\")\n",
    "plt.xticks(rotation=45, ha=\"right\")\n",
    "plt.show()\n"
   ]
  },
  {
   "cell_type": "markdown",
   "metadata": {},
   "source": [
    "## Part 2. Feature extraction and ML training <a class=\"anchor\" name=\"part-2\"></a>\n",
    "In this section, you will need to use PySpark DataFrame functions and ML packages for data preparation, model building, and evaluation. Other ML packages, such as scikit-learn, would receive zero marks. Excessive usage of Spark SQL is discouraged.\n",
    "### 2.1 Discuss the feature selection and prepare the feature columns\n",
    "\n",
    "2.1.1 Based on the data exploration from 1.2 and considering the situation we have, discuss the importance of those features (For example, which features may be useless and should be removed, which feature has a great impact on the label column, which should be transformed) which features you are planning to use? Discuss the reasons for selecting them and how you create/transform them\n",
    "- 300 words max for the discussion\n",
    "- Please only use the provided data for model building\n",
    "- You can create/add additional feature/column based on the dataset\n",
    "- Hint - things to consider include whether to create more feature columns, whether to remove some columns, using the insights from the data exploration/domain knowledge/statistical models  "
   ]
  },
  {
   "cell_type": "markdown",
   "metadata": {},
   "source": [
    "#Feature Importance:\n",
    "Numeric Features: \"num_cat_highvalue,\" \"num_cat_midvalue,\" \"num_cat_lowvalue\", \"high_value_ratio,\" and \"low_value_ratio\",\"age\" are important. These features can provide insights into customer behavior, such as the distribution of actions, the ratio of high-value to low-value actions also \"Age\" is an essential feature, as it often correlates with purchase behavior. It's possible that different age groups have varying propensities to make purchases.These features have a significant impact on whether a customer makes a purchase(made_purchase).\n",
    "high_value_ratio, low_value_ratio columns may represent ratios or proportions related to spending behavior, which can be valuable in predictive modeling.\n",
    "first_join_year can provide insights into customer loyalty and behavior changes over time.\n",
    "\n",
    "\n",
    "#Categorical Features:These features may capture customer preferences and location-specific behaviors, which can influence purchase decisions.(\"season,\" \"gender,\" \"device_type,\" and \"home_location\").\n",
    "Gender is a common demographic feature that can influence purchasing decisions \n",
    "The type of device used by customers can impact their interaction with a platform or service, potentially affecting purchase behavior also customer location or region can play a role in purchase preferences and behavior.\n",
    "\n",
    "\n",
    "\n",
    "#Feature Removal:\n",
    "Session ID & Customer ID- The \"session_id\",\"customer_id\" feature is likely not useful for predicting purchase behavior. And as customer_id it's likely to be unique for each customer it is not of much use. dropping total_action column too as we got high_value_ratio',low_value_ratio' from it which is more important."
   ]
  },
  {
   "cell_type": "markdown",
   "metadata": {},
   "source": [
    "2.1.2 Write code to create/transform the columns based on your discussion above\n",
    "- Hint: You can use one dataframe for both two use cases(classification and k-mean later in part 3) since you can select your desired columns as the input and output for each use case. \n"
   ]
  },
  {
   "cell_type": "code",
   "execution_count": 19,
   "metadata": {},
   "outputs": [
    {
     "name": "stdout",
     "output_type": "stream",
     "text": [
      "root\n",
      " |-- num_cat_highvalue: long (nullable = false)\n",
      " |-- num_cat_midvalue: long (nullable = false)\n",
      " |-- num_cat_lowvalue: long (nullable = false)\n",
      " |-- high_value_ratio: double (nullable = true)\n",
      " |-- low_value_ratio: double (nullable = true)\n",
      " |-- is_promotion: long (nullable = true)\n",
      " |-- season: string (nullable = true)\n",
      " |-- gender: string (nullable = true)\n",
      " |-- device_type: string (nullable = true)\n",
      " |-- home_location: string (nullable = true)\n",
      " |-- first_join_year: integer (nullable = true)\n",
      " |-- age: integer (nullable = true)\n",
      " |-- payment_status: string (nullable = false)\n",
      " |-- made_purchase: integer (nullable = false)\n",
      "\n"
     ]
    }
   ],
   "source": [
    "feature_df = feature_df.withColumnRenamed(\"min_season\", \"season\")\n",
    "columns_to_drop = ['session_id', 'total_actions','customer_id']\n",
    "feature_df = feature_df.drop(*columns_to_drop)\n",
    "numerical_cols = ['num_cat_highvalue', 'num_cat_lowvalue', 'num_cat_midvalue', 'high_value_ratio',\n",
    "                    'low_value_ratio', 'first_join_year', 'age']\n",
    "categorical_cols = ['season', 'gender', 'device_type', 'home_location', 'is_promotion']\n",
    "label_column = 'made_purchase'\n",
    "feature_df.printSchema()"
   ]
  },
  {
   "cell_type": "markdown",
   "metadata": {},
   "source": [
    "### 2.2 Preparing Spark ML Transformers/Estimators for features, labels, and models  <a class=\"anchor\" name=\"2.2\"></a>\n",
    "\n",
    "**2.2.1 Write code to create Transformers/Estimators for transforming/assembling the columns you selected above in 2.1, and create ML model Estimators for Random Forest (RF) and Gradient-boosted tree (GBT) model.\n",
    "Please DO NOT fit/transform the data yet**"
   ]
  },
  {
   "cell_type": "code",
   "execution_count": 20,
   "metadata": {},
   "outputs": [],
   "source": [
    "from pyspark.ml.feature import StringIndexer, OneHotEncoder, VectorAssembler\n",
    "from pyspark.ml.classification import RandomForestClassifier, GBTClassifier\n",
    "category_c = categorical_cols + [label_column]\n",
    "indexer = StringIndexer(inputCols=category_c, outputCols=[f'{col}_index' for col in categorical_cols] + ['label'])\n",
    "encoder = OneHotEncoder(inputCols=indexer.getOutputCols()[:-1], outputCols=[f'{col}_vec' for col in categorical_cols])\n",
    "input_cols_assembler = encoder.getOutputCols() + numerical_cols  \n",
    "assembler = VectorAssembler(inputCols=input_cols_assembler, outputCol='features')\n",
    "\n",
    "rf = RandomForestClassifier(featuresCol='features', labelCol='label', maxDepth=3)\n",
    "gbt = GBTClassifier(featuresCol='features', labelCol='label', maxDepth=3)\n"
   ]
  },
  {
   "cell_type": "markdown",
   "metadata": {},
   "source": [
    "**2.2.2. Write code to include the above Transformers/Estimators into two pipelines.\n",
    "Please DO NOT fit/transform the data yet**"
   ]
  },
  {
   "cell_type": "code",
   "execution_count": 21,
   "metadata": {},
   "outputs": [],
   "source": [
    "from pyspark.ml import Pipeline\n",
    "\n",
    "rf_pipeline = Pipeline(stages = [indexer, encoder, assembler,rf])\n",
    "gbt_pipeline= Pipeline(stages = [indexer, encoder, assembler, gbt])\n"
   ]
  },
  {
   "cell_type": "markdown",
   "metadata": {},
   "source": [
    "### 2.3 Preparing the training data and testing data  \n",
    "Write code to split the data for training and testing purposes.  \n",
    "Note: Due to the large size of the dataset, you can choose to use random sampling (say 20% of the dataset) and do a train/test split; or use one year of data for training and another year for testing. "
   ]
  },
  {
   "cell_type": "code",
   "execution_count": 22,
   "metadata": {},
   "outputs": [
    {
     "name": "stdout",
     "output_type": "stream",
     "text": [
      "Training Dataset Count: 136426\n",
      "Test Dataset Count: 34155\n"
     ]
    }
   ],
   "source": [
    "sample = feature_df.sample(fraction=0.2, seed=143)\n",
    "train_data, test_data = sample.randomSplit([0.8, 0.2], seed = 148)\n",
    "print(\"Training Dataset Count: \" + str(train_data.count ( )))\n",
    "print(\"Test Dataset Count: \" + str(test_data.count( )))"
   ]
  },
  {
   "cell_type": "markdown",
   "metadata": {},
   "source": [
    "### 2.4 Training and evaluating models  \n",
    "2.4.1 Write code to use the corresponding ML Pipelines to train the models on the training data from 2.3. And then use the trained models to predict the testing data from 2.3"
   ]
  },
  {
   "cell_type": "code",
   "execution_count": 23,
   "metadata": {},
   "outputs": [
    {
     "name": "stdout",
     "output_type": "stream",
     "text": [
      "+-------------+----------+--------------------+\n",
      "|made_purchase|prediction|         probability|\n",
      "+-------------+----------+--------------------+\n",
      "|            1|       0.0|[0.51812017222910...|\n",
      "|            1|       0.0|[0.51249239053709...|\n",
      "|            1|       0.0|[0.51249239053709...|\n",
      "|            1|       0.0|[0.51249239053709...|\n",
      "|            1|       0.0|[0.51249239053709...|\n",
      "+-------------+----------+--------------------+\n",
      "only showing top 5 rows\n",
      "\n",
      "+-------------+----------+--------------------+\n",
      "|made_purchase|prediction|         probability|\n",
      "+-------------+----------+--------------------+\n",
      "|            1|       0.0|[0.59305935929195...|\n",
      "|            1|       0.0|[0.59305935929195...|\n",
      "|            1|       0.0|[0.59305935929195...|\n",
      "|            1|       0.0|[0.59305935929195...|\n",
      "|            1|       0.0|[0.59305935929195...|\n",
      "+-------------+----------+--------------------+\n",
      "only showing top 5 rows\n",
      "\n"
     ]
    }
   ],
   "source": [
    "rf_model = rf_pipeline.fit(train_data)\n",
    "rf_predictions = rf_model.transform(test_data)\n",
    "gbt_model = gbt_pipeline.fit(train_data)\n",
    "gbt_predictions = gbt_model.transform(test_data)\n",
    "rf_predictions.select(\"made_purchase\", \"prediction\", \"probability\").show(5)\n",
    "gbt_predictions.select(\"made_purchase\", \"prediction\", \"probability\").show(5)"
   ]
  },
  {
   "cell_type": "markdown",
   "metadata": {},
   "source": [
    "2.4.2 For both models(RF and GBT) and testing data, write code to display the count of TP/TN/FP/FN. Compute the AUC, accuracy, recall, and precision for the above-threshold/below-threshold label from each model testing result using pyspark MLlib/ML APIs.\n",
    "- Draw a ROC plot.\n",
    "- Discuss which one is the better model(no word limit, please keep it concise)"
   ]
  },
  {
   "cell_type": "code",
   "execution_count": 24,
   "metadata": {},
   "outputs": [
    {
     "name": "stdout",
     "output_type": "stream",
     "text": [
      "+-----+----------+-----+\n",
      "|label|prediction|count|\n",
      "+-----+----------+-----+\n",
      "|  1.0|       1.0| 5186|\n",
      "|  0.0|       1.0|   87|\n",
      "|  1.0|       0.0| 7775|\n",
      "|  0.0|       0.0|21107|\n",
      "+-----+----------+-----+\n",
      "\n",
      "Random Forest:\n",
      "True Negatives (TN): 21107\n",
      "True Positives (TP): 5186\n",
      "False Negatives (FN): 7775\n",
      "False Positives (FP): 87\n",
      "Accuracy: 0.7698140828575611\n",
      "Precision: 0.9835008534041343\n",
      "Recall: 0.40012344726487153\n",
      "F1-Score: 0.5688274651749479\n"
     ]
    }
   ],
   "source": [
    "TN = rf_predictions.filter('prediction = 0 AND label = 0').count()\n",
    "TP = rf_predictions.filter('prediction = 1 AND label = 1').count()\n",
    "FN = rf_predictions.filter('prediction = 0 AND label = 1').count()\n",
    "FP = rf_predictions.filter('prediction = 1 AND label = 0').count()\n",
    "rf_predictions.groupBy('label', 'prediction').count().show()\n",
    "accuracy = (TP + TN)/(TP + TN + FN +FP)\n",
    "precision = (TP )/(TP +FP)\n",
    "recall = (TP )/(TP +FN)\n",
    "f1 = (2/((1/recall) + (1/precision)))\n",
    "\n",
    "\n",
    "print(\"Random Forest:\")\n",
    "print(\"True Negatives (TN):\", TN)\n",
    "print(\"True Positives (TP):\", TP)\n",
    "print(\"False Negatives (FN):\",FN)\n",
    "print(\"False Positives (FP):\",FP)\n",
    "print(\"Accuracy:\", accuracy)\n",
    "print(\"Precision:\", precision)\n",
    "print(\"Recall:\", recall)\n",
    "print(\"F1-Score:\", f1)\n"
   ]
  },
  {
   "cell_type": "code",
   "execution_count": 25,
   "metadata": {},
   "outputs": [
    {
     "name": "stdout",
     "output_type": "stream",
     "text": [
      "+-------------+----------+-----+\n",
      "|made_purchase|prediction|count|\n",
      "+-------------+----------+-----+\n",
      "|            1|       0.0|21167|\n",
      "|            0|       0.0| 6493|\n",
      "|            1|       1.0|   27|\n",
      "|            0|       1.0| 6468|\n",
      "+-------------+----------+-----+\n",
      "\n",
      "True Negatives: 6493\n",
      "True Positives: 27\n",
      "False Negatives: 21167\n",
      "False Positives: 6468\n",
      "Accuracy: 34395.48148148148\n",
      "Precision: 0.004157043879907622\n",
      "Recall: 0.001273945456261206\n",
      "F1-Score: 0.0019502329444905917\n"
     ]
    }
   ],
   "source": [
    "\n",
    "TN = gbt_predictions.filter('prediction = 0 AND made_purchase  = 0').count()\n",
    "TP = gbt_predictions.filter('prediction = 1 AND made_purchase  = 1').count()\n",
    "FN = gbt_predictions.filter('prediction = 0 AND made_purchase  = 1').count()\n",
    "FP = gbt_predictions.filter('prediction = 1 AND made_purchase  = 0').count()\n",
    "gbt_predictions.groupBy('made_purchase', 'prediction').count().show()\n",
    "accuracy = TP+TN/TP+TN+FN+FP\n",
    "precision = TP / (TP + FP)\n",
    "recall = TP / (TP + FN)\n",
    "f1 = 2  * (precision * recall) / (precision + recall)\n",
    "\n",
    "print(\"True Negatives:\", TN)\n",
    "print(\"True Positives:\", TP)\n",
    "print(\"False Negatives:\", FN)\n",
    "print(\"False Positives:\", FP)\n",
    "print(\"Accuracy:\", accuracy)\n",
    "print(\"Precision:\", precision)\n",
    "print(\"Recall:\", recall)\n",
    "print(\"F1-Score:\", f1)\n"
   ]
  },
  {
   "cell_type": "code",
   "execution_count": 26,
   "metadata": {},
   "outputs": [
    {
     "name": "stdout",
     "output_type": "stream",
     "text": [
      "Area Under ROC: 0.8463020157080585\n"
     ]
    },
    {
     "data": {
      "image/png": "[encoded data removed]",
      "text/plain": [
       "<Figure size 640x480 with 1 Axes>"
      ]
     },
     "metadata": {},
     "output_type": "display_data"
    }
   ],
   "source": [
    "import matplotlib.pyplot as plt\n",
    "from pyspark.ml.evaluation import BinaryClassificationEvaluator\n",
    "evaluator = BinaryClassificationEvaluator(rawPredictionCol=\"rawPrediction\")\n",
    "print(\"Area Under ROC: \" + str(evaluator.evaluate(rf_predictions, {evaluator.metricName: \"areaUnderROC\"})))\n",
    "roc_details = rf_model.stages[-1].summary\n",
    "roc = roc_details.roc.toPandas()\n",
    "plt.plot(roc['FPR'],roc['TPR'])\n",
    "plt.ylabel('TPR')\n",
    "plt.xlabel('FPR')\n",
    "plt.title('ROC_Curve')\n",
    "plt.show()"
   ]
  },
  {
   "cell_type": "code",
   "execution_count": 28,
   "metadata": {},
   "outputs": [
    {
     "name": "stdout",
     "output_type": "stream",
     "text": [
      "Area Under ROC: 0.8700260066936533\n"
     ]
    },
    {
     "data": {
      "image/png": "[encoded data removed]",
      "text/plain": [
       "<Figure size 800x600 with 1 Axes>"
      ]
     },
     "metadata": {},
     "output_type": "display_data"
    }
   ],
   "source": [
    "from sklearn.metrics import roc_curve\n",
    "\n",
    "import matplotlib.pyplot as plt\n",
    "import numpy as np\n",
    "from pyspark.ml.evaluation import BinaryClassificationEvaluator\n",
    "predictions = gbt_model.transform(test_data)  \n",
    "evaluator = BinaryClassificationEvaluator(rawPredictionCol=\"rawPrediction\")\n",
    "auc = evaluator.evaluate(predictions, {evaluator.metricName: \"areaUnderROC\"})\n",
    "print(\"Area Under ROC: \" + str(auc))\n",
    "prob_col = 'probability'  \n",
    "label_col = 'label'  \n",
    "probs = np.array(predictions.select(prob_col).rdd.map(lambda x: x[0][1]).collect())\n",
    "labels = np.array(predictions.select(label_col).rdd.map(lambda x: x[0]).collect())\n",
    "fpr, tpr, _ = roc_curve(labels, probs)\n",
    "plt.figure(figsize=(8, 6))\n",
    "plt.plot(fpr, tpr, color='darkorange', lw=2, label='ROC curve (area = %0.2f)' % auc)\n",
    "plt.plot([0, 1], [0, 1], color='navy', lw=2, linestyle='--')\n",
    "plt.xlim([0.0, 1.0])\n",
    "plt.ylim([0.0, 1.05])\n",
    "plt.xlabel('False Positive Rate')\n",
    "plt.ylabel('True Positive Rate')\n",
    "plt.title('Receiver Operating Characteristic (ROC)')\n",
    "plt.legend(loc='lower right')\n",
    "plt.show()\n"
   ]
  },
  {
   "cell_type": "markdown",
   "metadata": {},
   "source": [
    "#(Receiver Operating Characteristic)ROC -----------------\n",
    "#######\n",
    "ROC curve is a graphical representation of a binary classification model's performance. It plots the True Positive Rate (TPR) against the False Positive Rate (FPR) at various classification thresholds. Essentially, it shows how well the model distinguishes between positive and negative classes as the threshold for classification changes.\n",
    "\n",
    "#AUC- It represents the area under the ROC curve and ranges from 0 to 1. A higher AUC indicates better model performance. An AUC of 0.5 suggests that the model performs no better than random chance, while an AUC of 1 indicates perfect performance.\n",
    "An AUC of 0.8463 for Random forest and 0.8702 for Gradient-boosted tree (GBT) model suggests that both models are performing reasonably well but  gbt has slightly better discriminatory power in distinguishing between positive and negative samples.However, the choice of the \"better\" model also depends on the specific requirements and goals of your application."
   ]
  },
  {
   "cell_type": "markdown",
   "metadata": {},
   "source": [
    "2.4.3 Save the better model, we will need this for Part B of assignment 2.  \n",
    "(note: You may need to go through a few training loops or use more data to create a better-performing model.)"
   ]
  },
  {
   "cell_type": "code",
   "execution_count": 29,
   "metadata": {},
   "outputs": [],
   "source": [
    "#gbt_model.save(\"/Users/komalattrey/Bigdata/gbt_model\")"
   ]
  },
  {
   "cell_type": "markdown",
   "metadata": {},
   "source": [
    "### Part 3. Customer Segmentation and Knowledge sharing with K-Mean <a class=\"anchor\" name=\"part-3\"></a>  \n",
    "Please see the specification for this task and add code/markdown cells."
   ]
  },
  {
   "cell_type": "code",
   "execution_count": 30,
   "metadata": {},
   "outputs": [],
   "source": [
    "from pyspark.sql import SparkSession\n",
    "from pyspark.ml.feature import VectorAssembler\n",
    "from pyspark.ml.clustering import KMeans\n",
    "from pyspark.ml.evaluation import ClusteringEvaluator\n",
    "import matplotlib.pyplot as plt\n",
    "import numpy as np\n",
    "numerical_cols = ['num_cat_highvalue', 'num_cat_lowvalue', 'num_cat_midvalue', 'high_value_ratio',\n",
    "                  'low_value_ratio', 'first_join_year', 'age']\n",
    "categorical_cols = ['season', 'gender', 'device_type', 'home_location', 'is_promotion']\n",
    "\n",
    "selected_features = numerical_cols + categorical_cols\n",
    "selected_df =feature_df.select(*selected_features)\n",
    "for col in categorical_cols:\n",
    "    selected_df = selected_df.withColumn(col, selected_df[col].cast(\"string\"))\n",
    "    selected_df = selected_df.dropna(subset=[col])\n",
    "    selected_df = selected_df.fillna({col: 'Unknown'})\n",
    "\n",
    "    category_col = col + \"_encoded\"\n",
    "    encoder = StringIndexer(inputCol=col, outputCol=category_col)\n",
    "    model = encoder.fit(selected_df)\n",
    "    selected_df = model.transform(selected_df)\n",
    "\n",
    "assembler = VectorAssembler(inputCols=[col + \"_encoded\" if col in categorical_cols else col for col in selected_features],\n",
    "                            outputCol=\"features\")\n",
    "data = assembler.transform(selected_df)\n"
   ]
  },
  {
   "cell_type": "code",
   "execution_count": 31,
   "metadata": {},
   "outputs": [
    {
     "data": {
      "image/png": "[encoded data removed]",
      "text/plain": [
       "<Figure size 1000x500 with 1 Axes>"
      ]
     },
     "metadata": {},
     "output_type": "display_data"
    },
    {
     "data": {
      "text/plain": [
       "DataFrame[prediction: int]"
      ]
     },
     "execution_count": 31,
     "metadata": {},
     "output_type": "execute_result"
    }
   ],
   "source": [
    "k_values = range(2, 11)\n",
    "silhouette_scores = []\n",
    "\n",
    "for k in k_values:\n",
    "    kmeans = KMeans().setK(k).setSeed(1)\n",
    "    model = kmeans.fit(data)\n",
    "    predictions = model.transform(data)\n",
    "    evaluator = ClusteringEvaluator()\n",
    "    silhouette_score = evaluator.evaluate(predictions)\n",
    "    silhouette_scores.append(silhouette_score)\n",
    "\n",
    "# Plot the Silhouette scores for different K values\n",
    "plt.figure(figsize=(10, 5))\n",
    "plt.plot(k_values, silhouette_scores, marker='o')\n",
    "plt.xlabel('Number of Clusters (K)')\n",
    "plt.ylabel('Silhouette Score')\n",
    "plt.title('Silhouette Score vs. Number of Clusters (K)')\n",
    "plt.grid(True)\n",
    "plt.show()\n",
    "\n",
    "\n",
    "optimal_k = k_values[np.argmax(silhouette_scores)]\n",
    "kmeans = KMeans().setK(optimal_k).setSeed(1)\n",
    "model = kmeans.fit(data)\n",
    "assignments = model.transform(data)\n",
    "assignments.select(\"prediction\")\n",
    "\n"
   ]
  },
  {
   "cell_type": "code",
   "execution_count": 32,
   "metadata": {},
   "outputs": [
    {
     "name": "stdout",
     "output_type": "stream",
     "text": [
      "Silhouette Score for K=2: 0.5525549738075354\n"
     ]
    }
   ],
   "source": [
    "from pyspark.ml.evaluation import ClusteringEvaluator\n",
    "kmeans = KMeans().setK(2).setSeed(1)\n",
    "model = kmeans.fit(data)\n",
    "assignments = model.transform(data)\n",
    "evaluator = ClusteringEvaluator()\n",
    "silhouette_score = evaluator.evaluate(assignments)\n",
    "print(f\"Silhouette Score for K=2: {silhouette_score}\")\n"
   ]
  },
  {
   "cell_type": "code",
   "execution_count": 33,
   "metadata": {},
   "outputs": [
    {
     "name": "stdout",
     "output_type": "stream",
     "text": [
      "+------------------+------------------+----------------+----------------+------------------+------------------+------------------+\n",
      "| num_cat_highvalue|  num_cat_lowvalue|num_cat_midvalue|high_value_ratio|   low_value_ratio|   first_join_year|               age|\n",
      "+------------------+------------------+----------------+----------------+------------------+------------------+------------------+\n",
      "|1.9454544097115938|10.087953457814145|4.40428577827882|16.9095677929387|61.103437273711734|2018.8161176769222|27.427527007757032|\n",
      "+------------------+------------------+----------------+----------------+------------------+------------------+------------------+\n",
      "\n"
     ]
    }
   ],
   "source": [
    "from pyspark.sql.functions import mean, col\n",
    "cluster_0_data = assignments.filter(assignments[\"prediction\"] == 0)\n",
    "average_values = cluster_0_data.select([mean(col).alias(col) for col in numerical_cols])\n",
    "average_values.show()\n"
   ]
  },
  {
   "cell_type": "markdown",
   "metadata": {},
   "source": [
    "#\n",
    "K=2 was chosen because it yielded the highest Silhouette Score in the analysis, indicating that dividing the data into two clusters provided the best separation among the data points. \n",
    "\n",
    "#\n",
    "Certainly! result shows Cluster 0 represents a unique customer segment characterized by younger customers with a preference for lower-value transactions but frequent.\n",
    "Recommend -Tailoring marketing strategies and product offerings to resonate with their spending habits. Consider mobile-friendly experiences, as this group likely engages with us through digital channels.We can ensuring that our business effectively meets the needs and preferences of this specific customer segment.\n",
    "Create marketing campaigns and product offerings that resonate with cost-conscious consumers.\n",
    "\n",
    "#\n",
    "Similarly another Cluster 1 represents a customer segment that might engage in high-value transactions and could have distinct demographic characteristics, or the age can vary. Tailoring strategies to meet the preferences of this group can lead to increased customer loyalty and revenue growth.\n",
    "Personalized recommendations and promotions that align with the spending habits of this group.\n",
    "\n",
    "\n"
   ]
  },
  {
   "cell_type": "markdown",
   "metadata": {},
   "source": [
    "### Part 4: Data Ethics, Privacy, and Security <a class=\"anchor\" name=\"part-4\"></a>  \n",
    "Please see the specification for this task and add markdown cells(word limit: 500)."
   ]
  },
  {
   "cell_type": "markdown",
   "metadata": {},
   "source": [
    "#\n",
    "Data Ethics and Fairness:\n",
    "Data ethics involves adhering to moral principles and guidelines during data collection, use, and dissemination. It emphasizes fairness, transparency, and accountability throughout the data lifecycle. It's essential to address biases and discrimination that may arise from biased data or algorithms.\n",
    "\n",
    "-Fairness: Data scientists should aim for unbiased decision-making.\n",
    "-Transparency: Ethical data practices promote openness and understanding, fostering trust among stakeholders.\n",
    "-Consent: Companies must be transparent, request consent, and safeguard sensitive information.\n",
    "#\n",
    "Data Privacy:\n",
    "-Data privacy is a legal requirement that protects individuals' personal information from unauthorized access, use, or disclosure. Big data poses unique challenges due to the vast volume of data collected and analyzed.\n",
    "\n",
    "Challenges: Ensuring personally identifiable information remains un-traceable can be difficult with diverse datasets.\n",
    "Consent and Transparency: Obtaining informed consent and transparent data collection and usage are essential challenges.\n",
    "#\n",
    "Data Security:\n",
    "Data security involves safeguarding data from unauthorized access, alteration, or destruction.\n",
    "\n",
    "Security Risks: Unauthorized access can lead to data breaches, causing reputational and financial damage.\n",
    "Employee Actions: Malicious or negligent employee actions pose significant security risks.\n",
    "Big Data Complexity: The complexity of big data makes robust security measures challenging to implement."
   ]
  },
  {
   "cell_type": "markdown",
   "metadata": {},
   "source": []
  },
  {
   "cell_type": "markdown",
   "metadata": {},
   "source": [
    "## References:\n",
    "Please add your references below:"
   ]
  },
  {
   "cell_type": "code",
   "execution_count": null,
   "metadata": {},
   "outputs": [],
   "source": [
    "http://127.0.0.1:8888/notebooks/Bigdata/Week6_Classification%20Algorithms.ipynb\n",
    "http://127.0.0.1:8888/notebooks/Bigdata/FIT5202%20Week7_Part%20A%20-%20K-Means%20Clustering(Moodle).ipynb"
   ]
  },
  {
   "cell_type": "code",
   "execution_count": null,
   "metadata": {},
   "outputs": [],
   "source": []
  }
 ],
 "metadata": {
  "kernelspec": {
   "display_name": "Python 3 (ipykernel)",
   "language": "python",
   "name": "python3"
  },
  "language_info": {
   "codemirror_mode": {
    "name": "ipython",
    "version": 3
   },
   "file_extension": ".py",
   "mimetype": "text/x-python",
   "name": "python",
   "nbconvert_exporter": "python",
   "pygments_lexer": "ipython3",
   "version": "3.10.11"
  }
 },
 "nbformat": 4,
 "nbformat_minor": 4
}
